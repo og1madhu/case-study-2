{
 "cells": [
  {
   "cell_type": "markdown",
   "id": "6a7d5404",
   "metadata": {},
   "source": [
    "<font color='blue'>\n",
    "    <font size = 5>\n",
    "        You have been given the role of a business analyst for an E-Commerce company and have been asked to prepare a basic report on the data. Follow the steps below for preparation of the report. \n",
    "\n",
    "Before you start analysing the data, it is always a good practice to see the size of the data, its features and feature types. If the data set is big, it is not possible to print out all the records. \n",
    "    </font>\n",
    "####  Note: Use the markdown feature of Python to explain your answer.\n",
    "    "
   ]
  },
  {
   "cell_type": "markdown",
   "id": "daf5d935",
   "metadata": {},
   "source": [
    "## Load the necessary libraries. Import and load the dataset with a name ECom_Data ."
   ]
  },
  {
   "cell_type": "code",
   "execution_count": 1,
   "id": "eec2a3b5",
   "metadata": {
    "ExecuteTime": {
     "end_time": "2023-12-13T04:39:44.537980Z",
     "start_time": "2023-12-13T04:39:40.902541Z"
    }
   },
   "outputs": [],
   "source": [
    "import pandas as pd\n",
    "\n",
    "import seaborn as sns\n",
    "import matplotlib.pyplot as plt\n",
    "import warnings\n",
    "warnings.filterwarnings('ignore')"
   ]
  },
  {
   "cell_type": "code",
   "execution_count": 2,
   "id": "8e1fcc97",
   "metadata": {
    "ExecuteTime": {
     "end_time": "2023-12-13T04:39:45.071119Z",
     "start_time": "2023-12-13T04:39:44.559510Z"
    }
   },
   "outputs": [
    {
     "data": {
      "text/html": [
       "<div>\n",
       "<style scoped>\n",
       "    .dataframe tbody tr th:only-of-type {\n",
       "        vertical-align: middle;\n",
       "    }\n",
       "\n",
       "    .dataframe tbody tr th {\n",
       "        vertical-align: top;\n",
       "    }\n",
       "\n",
       "    .dataframe thead th {\n",
       "        text-align: right;\n",
       "    }\n",
       "</style>\n",
       "<table border=\"1\" class=\"dataframe\">\n",
       "  <thead>\n",
       "    <tr style=\"text-align: right;\">\n",
       "      <th></th>\n",
       "      <th>Customer_uniq_id</th>\n",
       "      <th>Region</th>\n",
       "      <th>Order_Date</th>\n",
       "      <th>Expected_Delivery_Date</th>\n",
       "      <th>Delivered_Date</th>\n",
       "      <th>product_name</th>\n",
       "      <th>product_main_category</th>\n",
       "      <th>product_subcategory</th>\n",
       "      <th>product_category_filter</th>\n",
       "      <th>product_category_subfilter</th>\n",
       "      <th>product_unique ID</th>\n",
       "      <th>retail_price</th>\n",
       "      <th>discounted_price</th>\n",
       "      <th>product_rating</th>\n",
       "      <th>Brand</th>\n",
       "      <th>product_specifications</th>\n",
       "      <th>description</th>\n",
       "    </tr>\n",
       "  </thead>\n",
       "  <tbody>\n",
       "    <tr>\n",
       "      <th>0</th>\n",
       "      <td>c2d766ca982eca8304150849735ffef9</td>\n",
       "      <td>North</td>\n",
       "      <td>31-12-2021</td>\n",
       "      <td>03-01-2022</td>\n",
       "      <td>02-01-2022</td>\n",
       "      <td>Alisha Solid Women's Cycling Shorts</td>\n",
       "      <td>Clothing</td>\n",
       "      <td>Women's Clothing</td>\n",
       "      <td>Lingerie, Sleep &amp; Swimwear</td>\n",
       "      <td>Shorts</td>\n",
       "      <td>SRTEH2FF9KEDEFGF</td>\n",
       "      <td>999</td>\n",
       "      <td>379</td>\n",
       "      <td>2.0</td>\n",
       "      <td>Alisha</td>\n",
       "      <td>{\"product_specification\"=&gt;[{\"key\"=&gt;\"Number of ...</td>\n",
       "      <td>Key Features of Alisha Solid Women's Cycling S...</td>\n",
       "    </tr>\n",
       "    <tr>\n",
       "      <th>1</th>\n",
       "      <td>7f7036a6d550aaa89d34c77bd39a5e48</td>\n",
       "      <td>East</td>\n",
       "      <td>31-12-2021</td>\n",
       "      <td>03-01-2022</td>\n",
       "      <td>02-01-2022</td>\n",
       "      <td>FabHomeDecor Fabric Double Sofa Bed</td>\n",
       "      <td>Furniture</td>\n",
       "      <td>Living Room Furniture</td>\n",
       "      <td>Sofa Beds &amp; Futons</td>\n",
       "      <td>FabHomeDecor Fabric Double Sofa Bed (Finish C...</td>\n",
       "      <td>SBEEH3QGU7MFYJFY</td>\n",
       "      <td>32157</td>\n",
       "      <td>22646</td>\n",
       "      <td>2.0</td>\n",
       "      <td>FabHomeDecor</td>\n",
       "      <td>{\"product_specification\"=&gt;[{\"key\"=&gt;\"Installati...</td>\n",
       "      <td>FabHomeDecor Fabric Double Sofa Bed (Finish Co...</td>\n",
       "    </tr>\n",
       "    <tr>\n",
       "      <th>2</th>\n",
       "      <td>f449ec65dcbc041b6ae5e6a32717d01b</td>\n",
       "      <td>East</td>\n",
       "      <td>31-12-2021</td>\n",
       "      <td>03-01-2022</td>\n",
       "      <td>02-01-2022</td>\n",
       "      <td>AW Bellies</td>\n",
       "      <td>Footwear</td>\n",
       "      <td>Women's Footwear</td>\n",
       "      <td>Ballerinas</td>\n",
       "      <td>AW Bellies</td>\n",
       "      <td>SHOEH4GRSUBJGZXE</td>\n",
       "      <td>999</td>\n",
       "      <td>499</td>\n",
       "      <td>1.0</td>\n",
       "      <td>AW</td>\n",
       "      <td>{\"product_specification\"=&gt;[{\"key\"=&gt;\"Ideal For\"...</td>\n",
       "      <td>Key Features of AW Bellies Sandals Wedges Heel...</td>\n",
       "    </tr>\n",
       "    <tr>\n",
       "      <th>3</th>\n",
       "      <td>0973b37acd0c664e3de26e97e5571454</td>\n",
       "      <td>West</td>\n",
       "      <td>31-12-2021</td>\n",
       "      <td>03-01-2022</td>\n",
       "      <td>02-01-2022</td>\n",
       "      <td>Alisha Solid Women's Cycling Shorts</td>\n",
       "      <td>Clothing</td>\n",
       "      <td>Women's Clothing</td>\n",
       "      <td>Lingerie, Sleep &amp; Swimwear</td>\n",
       "      <td>Shorts</td>\n",
       "      <td>SRTEH2F6HUZMQ6SJ</td>\n",
       "      <td>699</td>\n",
       "      <td>267</td>\n",
       "      <td>5.0</td>\n",
       "      <td>Alisha</td>\n",
       "      <td>{\"product_specification\"=&gt;[{\"key\"=&gt;\"Number of ...</td>\n",
       "      <td>Key Features of Alisha Solid Women's Cycling S...</td>\n",
       "    </tr>\n",
       "    <tr>\n",
       "      <th>4</th>\n",
       "      <td>bc940ea42ee6bef5ac7cea3fb5cfbee7</td>\n",
       "      <td>West</td>\n",
       "      <td>31-12-2021</td>\n",
       "      <td>03-01-2022</td>\n",
       "      <td>02-01-2022</td>\n",
       "      <td>Sicons All Purpose Arnica Dog Shampoo</td>\n",
       "      <td>Pet Supplies</td>\n",
       "      <td>Grooming</td>\n",
       "      <td>Skin &amp; Coat Care</td>\n",
       "      <td>Shampoo</td>\n",
       "      <td>PSOEH3ZYDMSYARJ5</td>\n",
       "      <td>220</td>\n",
       "      <td>210</td>\n",
       "      <td>5.0</td>\n",
       "      <td>Sicons</td>\n",
       "      <td>{\"product_specification\"=&gt;[{\"key\"=&gt;\"Pet Type\",...</td>\n",
       "      <td>Specifications of Sicons All Purpose Arnica Do...</td>\n",
       "    </tr>\n",
       "    <tr>\n",
       "      <th>...</th>\n",
       "      <td>...</td>\n",
       "      <td>...</td>\n",
       "      <td>...</td>\n",
       "      <td>...</td>\n",
       "      <td>...</td>\n",
       "      <td>...</td>\n",
       "      <td>...</td>\n",
       "      <td>...</td>\n",
       "      <td>...</td>\n",
       "      <td>...</td>\n",
       "      <td>...</td>\n",
       "      <td>...</td>\n",
       "      <td>...</td>\n",
       "      <td>...</td>\n",
       "      <td>...</td>\n",
       "      <td>...</td>\n",
       "      <td>...</td>\n",
       "    </tr>\n",
       "    <tr>\n",
       "      <th>8922</th>\n",
       "      <td>90d30478255e23621e8929ed15c2f6e4</td>\n",
       "      <td>South</td>\n",
       "      <td>01-12-2020</td>\n",
       "      <td>04-12-2020</td>\n",
       "      <td>04-12-2020</td>\n",
       "      <td>Sinina Chanderi Embroidered Salwar Suit Dupatt...</td>\n",
       "      <td>Clothing</td>\n",
       "      <td>Women's Clothing</td>\n",
       "      <td>Ethnic Wear</td>\n",
       "      <td>Fabric</td>\n",
       "      <td>FABEGGHHDFMY8BZU</td>\n",
       "      <td>2980</td>\n",
       "      <td>1490</td>\n",
       "      <td>3.0</td>\n",
       "      <td>Sinina</td>\n",
       "      <td>{\"product_specification\"=&gt;[{\"key\"=&gt;\"Fabric\", \"...</td>\n",
       "      <td>Key Features of Sinina Chanderi Embroidered Sa...</td>\n",
       "    </tr>\n",
       "    <tr>\n",
       "      <th>8923</th>\n",
       "      <td>20a73e3f41490a73ceeba5f17658db8f</td>\n",
       "      <td>West</td>\n",
       "      <td>01-12-2020</td>\n",
       "      <td>04-12-2020</td>\n",
       "      <td>04-12-2020</td>\n",
       "      <td>Aarushi Fashion Chanderi Embroidered Salwar Su...</td>\n",
       "      <td>Clothing</td>\n",
       "      <td>Women's Clothing</td>\n",
       "      <td>Ethnic Wear</td>\n",
       "      <td>Fabric</td>\n",
       "      <td>FABEG8GFDUWRSNU3</td>\n",
       "      <td>2600</td>\n",
       "      <td>1300</td>\n",
       "      <td>1.0</td>\n",
       "      <td>Aarushi Fashion</td>\n",
       "      <td>{\"product_specification\"=&gt;[{\"key\"=&gt;\"Fabric\", \"...</td>\n",
       "      <td>Key Features of Aarushi Fashion Chanderi Embro...</td>\n",
       "    </tr>\n",
       "    <tr>\n",
       "      <th>8924</th>\n",
       "      <td>5c1554cd45f9d538c2c6947dbdd59c75</td>\n",
       "      <td>East</td>\n",
       "      <td>01-12-2020</td>\n",
       "      <td>04-12-2020</td>\n",
       "      <td>04-12-2020</td>\n",
       "      <td>Ambika Lahenga Embroidered Lehenga, Choli and ...</td>\n",
       "      <td>Clothing</td>\n",
       "      <td>Women's Clothing</td>\n",
       "      <td>Ethnic Wear</td>\n",
       "      <td>Lehenga Cholis</td>\n",
       "      <td>LEHEGGEHYN4G2RPW</td>\n",
       "      <td>39992</td>\n",
       "      <td>24995</td>\n",
       "      <td>1.0</td>\n",
       "      <td>Ambika Lahenga</td>\n",
       "      <td>{\"product_specification\"=&gt;[{\"key\"=&gt;\"Fabric\", \"...</td>\n",
       "      <td>Key Features of Ambika Lahenga Embroidered Leh...</td>\n",
       "    </tr>\n",
       "    <tr>\n",
       "      <th>8925</th>\n",
       "      <td>6b737a4deca1ed0e56c179e66036e994</td>\n",
       "      <td>West</td>\n",
       "      <td>01-12-2020</td>\n",
       "      <td>04-12-2020</td>\n",
       "      <td>04-12-2020</td>\n",
       "      <td>Sinina Chanderi Embroidered Salwar Suit Dupatt...</td>\n",
       "      <td>Clothing</td>\n",
       "      <td>Women's Clothing</td>\n",
       "      <td>Ethnic Wear</td>\n",
       "      <td>Fabric</td>\n",
       "      <td>FABEGGHHGSVCHGFV</td>\n",
       "      <td>2000</td>\n",
       "      <td>1000</td>\n",
       "      <td>3.0</td>\n",
       "      <td>Sinina</td>\n",
       "      <td>{\"product_specification\"=&gt;[{\"key\"=&gt;\"Fabric\", \"...</td>\n",
       "      <td>Key Features of Sinina Chanderi Embroidered Sa...</td>\n",
       "    </tr>\n",
       "    <tr>\n",
       "      <th>8926</th>\n",
       "      <td>a5235ac28d3d5487f54025f9d6b57433</td>\n",
       "      <td>North</td>\n",
       "      <td>01-12-2020</td>\n",
       "      <td>04-12-2020</td>\n",
       "      <td>04-12-2020</td>\n",
       "      <td>Aarushi Fashion Silk Striped Salwar Suit Dupat...</td>\n",
       "      <td>Clothing</td>\n",
       "      <td>Women's Clothing</td>\n",
       "      <td>Ethnic Wear</td>\n",
       "      <td>Fabric</td>\n",
       "      <td>FABEG8GYDAABECZH</td>\n",
       "      <td>2800</td>\n",
       "      <td>1350</td>\n",
       "      <td>4.0</td>\n",
       "      <td>Aarushi Fashion</td>\n",
       "      <td>{\"product_specification\"=&gt;[{\"key\"=&gt;\"Fabric\", \"...</td>\n",
       "      <td>Key Features of Aarushi Fashion Silk Striped S...</td>\n",
       "    </tr>\n",
       "  </tbody>\n",
       "</table>\n",
       "<p>8927 rows × 17 columns</p>\n",
       "</div>"
      ],
      "text/plain": [
       "                      Customer_uniq_id Region  Order_Date  \\\n",
       "0     c2d766ca982eca8304150849735ffef9  North  31-12-2021   \n",
       "1     7f7036a6d550aaa89d34c77bd39a5e48  East   31-12-2021   \n",
       "2     f449ec65dcbc041b6ae5e6a32717d01b  East   31-12-2021   \n",
       "3     0973b37acd0c664e3de26e97e5571454   West  31-12-2021   \n",
       "4     bc940ea42ee6bef5ac7cea3fb5cfbee7   West  31-12-2021   \n",
       "...                                ...    ...         ...   \n",
       "8922  90d30478255e23621e8929ed15c2f6e4  South  01-12-2020   \n",
       "8923  20a73e3f41490a73ceeba5f17658db8f   West  01-12-2020   \n",
       "8924  5c1554cd45f9d538c2c6947dbdd59c75  East   01-12-2020   \n",
       "8925  6b737a4deca1ed0e56c179e66036e994   West  01-12-2020   \n",
       "8926  a5235ac28d3d5487f54025f9d6b57433  North  01-12-2020   \n",
       "\n",
       "     Expected_Delivery_Date Delivered_Date  \\\n",
       "0                03-01-2022     02-01-2022   \n",
       "1                03-01-2022     02-01-2022   \n",
       "2                03-01-2022     02-01-2022   \n",
       "3                03-01-2022     02-01-2022   \n",
       "4                03-01-2022     02-01-2022   \n",
       "...                     ...            ...   \n",
       "8922             04-12-2020     04-12-2020   \n",
       "8923             04-12-2020     04-12-2020   \n",
       "8924             04-12-2020     04-12-2020   \n",
       "8925             04-12-2020     04-12-2020   \n",
       "8926             04-12-2020     04-12-2020   \n",
       "\n",
       "                                           product_name product_main_category  \\\n",
       "0                   Alisha Solid Women's Cycling Shorts             Clothing    \n",
       "1                   FabHomeDecor Fabric Double Sofa Bed            Furniture    \n",
       "2                                            AW Bellies             Footwear    \n",
       "3                   Alisha Solid Women's Cycling Shorts             Clothing    \n",
       "4                 Sicons All Purpose Arnica Dog Shampoo         Pet Supplies    \n",
       "...                                                 ...                   ...   \n",
       "8922  Sinina Chanderi Embroidered Salwar Suit Dupatt...             Clothing    \n",
       "8923  Aarushi Fashion Chanderi Embroidered Salwar Su...             Clothing    \n",
       "8924  Ambika Lahenga Embroidered Lehenga, Choli and ...             Clothing    \n",
       "8925  Sinina Chanderi Embroidered Salwar Suit Dupatt...             Clothing    \n",
       "8926  Aarushi Fashion Silk Striped Salwar Suit Dupat...             Clothing    \n",
       "\n",
       "          product_subcategory       product_category_filter  \\\n",
       "0           Women's Clothing    Lingerie, Sleep & Swimwear    \n",
       "1      Living Room Furniture            Sofa Beds & Futons    \n",
       "2           Women's Footwear                    Ballerinas    \n",
       "3           Women's Clothing    Lingerie, Sleep & Swimwear    \n",
       "4                   Grooming              Skin & Coat Care    \n",
       "...                       ...                           ...   \n",
       "8922        Women's Clothing                   Ethnic Wear    \n",
       "8923        Women's Clothing                   Ethnic Wear    \n",
       "8924        Women's Clothing                   Ethnic Wear    \n",
       "8925        Women's Clothing                   Ethnic Wear    \n",
       "8926        Women's Clothing                   Ethnic Wear    \n",
       "\n",
       "                             product_category_subfilter product_unique ID  \\\n",
       "0                                               Shorts   SRTEH2FF9KEDEFGF   \n",
       "1      FabHomeDecor Fabric Double Sofa Bed (Finish C...  SBEEH3QGU7MFYJFY   \n",
       "2                                            AW Bellies  SHOEH4GRSUBJGZXE   \n",
       "3                                               Shorts   SRTEH2F6HUZMQ6SJ   \n",
       "4                                              Shampoo   PSOEH3ZYDMSYARJ5   \n",
       "...                                                 ...               ...   \n",
       "8922                                            Fabric   FABEGGHHDFMY8BZU   \n",
       "8923                                            Fabric   FABEG8GFDUWRSNU3   \n",
       "8924                                    Lehenga Cholis   LEHEGGEHYN4G2RPW   \n",
       "8925                                            Fabric   FABEGGHHGSVCHGFV   \n",
       "8926                                            Fabric   FABEG8GYDAABECZH   \n",
       "\n",
       "      retail_price  discounted_price  product_rating            Brand  \\\n",
       "0              999               379             2.0           Alisha   \n",
       "1            32157             22646             2.0     FabHomeDecor   \n",
       "2              999               499             1.0               AW   \n",
       "3              699               267             5.0           Alisha   \n",
       "4              220               210             5.0           Sicons   \n",
       "...            ...               ...             ...              ...   \n",
       "8922          2980              1490             3.0           Sinina   \n",
       "8923          2600              1300             1.0  Aarushi Fashion   \n",
       "8924         39992             24995             1.0   Ambika Lahenga   \n",
       "8925          2000              1000             3.0           Sinina   \n",
       "8926          2800              1350             4.0  Aarushi Fashion   \n",
       "\n",
       "                                 product_specifications  \\\n",
       "0     {\"product_specification\"=>[{\"key\"=>\"Number of ...   \n",
       "1     {\"product_specification\"=>[{\"key\"=>\"Installati...   \n",
       "2     {\"product_specification\"=>[{\"key\"=>\"Ideal For\"...   \n",
       "3     {\"product_specification\"=>[{\"key\"=>\"Number of ...   \n",
       "4     {\"product_specification\"=>[{\"key\"=>\"Pet Type\",...   \n",
       "...                                                 ...   \n",
       "8922  {\"product_specification\"=>[{\"key\"=>\"Fabric\", \"...   \n",
       "8923  {\"product_specification\"=>[{\"key\"=>\"Fabric\", \"...   \n",
       "8924  {\"product_specification\"=>[{\"key\"=>\"Fabric\", \"...   \n",
       "8925  {\"product_specification\"=>[{\"key\"=>\"Fabric\", \"...   \n",
       "8926  {\"product_specification\"=>[{\"key\"=>\"Fabric\", \"...   \n",
       "\n",
       "                                            description  \n",
       "0     Key Features of Alisha Solid Women's Cycling S...  \n",
       "1     FabHomeDecor Fabric Double Sofa Bed (Finish Co...  \n",
       "2     Key Features of AW Bellies Sandals Wedges Heel...  \n",
       "3     Key Features of Alisha Solid Women's Cycling S...  \n",
       "4     Specifications of Sicons All Purpose Arnica Do...  \n",
       "...                                                 ...  \n",
       "8922  Key Features of Sinina Chanderi Embroidered Sa...  \n",
       "8923  Key Features of Aarushi Fashion Chanderi Embro...  \n",
       "8924  Key Features of Ambika Lahenga Embroidered Leh...  \n",
       "8925  Key Features of Sinina Chanderi Embroidered Sa...  \n",
       "8926  Key Features of Aarushi Fashion Silk Striped S...  \n",
       "\n",
       "[8927 rows x 17 columns]"
      ]
     },
     "execution_count": 2,
     "metadata": {},
     "output_type": "execute_result"
    }
   ],
   "source": [
    "df=pd.read_csv('E-Commerce.csv')\n",
    "df"
   ]
  },
  {
   "cell_type": "markdown",
   "id": "2cf5f20f",
   "metadata": {},
   "source": [
    "<font color='blue'>\n",
    "    <font size = 5>\n",
    "        We have read the data and stored the data in \"ECom_Data\" variable </font>"
   ]
  },
  {
   "cell_type": "markdown",
   "id": "a0a4f84a",
   "metadata": {},
   "source": [
    "## Q 1.\tTo get familiar with the data\n",
    "## a)\tPrint out the first 10 and the last 10 records of the data. (2 marks)\n",
    "## b)\tHow many rows and columns are present in the dataset? Use any two different methods to extract this information. (2 + 2 + 1 marks)\n",
    "## c)\tHow many object data types are there? (1 mark)\n",
    "## d)\tIs there any Boolean data type? (1 mark) \n",
    "#### Note: Use the markdown feature of Python to explain your answer.\n"
   ]
  },
  {
   "cell_type": "code",
   "execution_count": null,
   "id": "55ad77c3",
   "metadata": {},
   "outputs": [],
   "source": []
  },
  {
   "cell_type": "markdown",
   "id": "0ba43d74",
   "metadata": {},
   "source": [
    "#### Ans 1 a)"
   ]
  },
  {
   "cell_type": "code",
   "execution_count": 31,
   "id": "6684f5a1",
   "metadata": {
    "ExecuteTime": {
     "end_time": "2023-11-08T07:34:58.972241Z",
     "start_time": "2023-11-08T07:34:58.960554Z"
    }
   },
   "outputs": [
    {
     "name": "stdout",
     "output_type": "stream",
     "text": [
      "                   Customer_uniq_id Region  Order_Date Expected_Delivery_Date  \\\n",
      "0  c2d766ca982eca8304150849735ffef9  North  31-12-2021             03-01-2022   \n",
      "1  7f7036a6d550aaa89d34c77bd39a5e48  East   31-12-2021             03-01-2022   \n",
      "2  f449ec65dcbc041b6ae5e6a32717d01b  East   31-12-2021             03-01-2022   \n",
      "3  0973b37acd0c664e3de26e97e5571454   West  31-12-2021             03-01-2022   \n",
      "4  bc940ea42ee6bef5ac7cea3fb5cfbee7   West  31-12-2021             03-01-2022   \n",
      "5  ce5a6818f7707e2cb61fdcdbba61f5ad  East   25-12-2021             28-12-2021   \n",
      "6  8542703ca9e6ebdf6d742638dfb1f2ca  East   25-12-2021             28-12-2021   \n",
      "7  29c8d290caa451f97b1c32df64477a2c  North  25-12-2021             28-12-2021   \n",
      "8  4044c0ac52c1ee4b28777417651faf42  East   25-12-2021             28-12-2021   \n",
      "9  e54bc0a7c3429da2ebef0b30331fe3d2  East   25-12-2021             28-12-2021   \n",
      "\n",
      "  Delivered_Date                                       product_name  \\\n",
      "0     02-01-2022                Alisha Solid Women's Cycling Shorts   \n",
      "1     02-01-2022                FabHomeDecor Fabric Double Sofa Bed   \n",
      "2     02-01-2022                                         AW Bellies   \n",
      "3     02-01-2022                Alisha Solid Women's Cycling Shorts   \n",
      "4     02-01-2022              Sicons All Purpose Arnica Dog Shampoo   \n",
      "5     27-12-2021                Alisha Solid Women's Cycling Shorts   \n",
      "6     27-12-2021                FabHomeDecor Fabric Double Sofa Bed   \n",
      "7     27-12-2021  dilli bazaaar Bellies, Corporate Casuals, Casuals   \n",
      "8     27-12-2021                Alisha Solid Women's Cycling Shorts   \n",
      "9     27-12-2021                                     Ladela Bellies   \n",
      "\n",
      "  product_main_category      product_subcategory  \\\n",
      "0             Clothing         Women's Clothing    \n",
      "1            Furniture    Living Room Furniture    \n",
      "2             Footwear         Women's Footwear    \n",
      "3             Clothing         Women's Clothing    \n",
      "4         Pet Supplies                 Grooming    \n",
      "5             Clothing         Women's Clothing    \n",
      "6            Furniture    Living Room Furniture    \n",
      "7             Footwear         Women's Footwear    \n",
      "8             Clothing         Women's Clothing    \n",
      "9             Footwear         Women's Footwear    \n",
      "\n",
      "        product_category_filter  \\\n",
      "0   Lingerie, Sleep & Swimwear    \n",
      "1           Sofa Beds & Futons    \n",
      "2                   Ballerinas    \n",
      "3   Lingerie, Sleep & Swimwear    \n",
      "4             Skin & Coat Care    \n",
      "5   Lingerie, Sleep & Swimwear    \n",
      "6           Sofa Beds & Futons    \n",
      "7                   Ballerinas    \n",
      "8   Lingerie, Sleep & Swimwear    \n",
      "9                   Ballerinas    \n",
      "\n",
      "                          product_category_subfilter product_unique ID  \\\n",
      "0                                            Shorts   SRTEH2FF9KEDEFGF   \n",
      "1   FabHomeDecor Fabric Double Sofa Bed (Finish C...  SBEEH3QGU7MFYJFY   \n",
      "2                                         AW Bellies  SHOEH4GRSUBJGZXE   \n",
      "3                                            Shorts   SRTEH2F6HUZMQ6SJ   \n",
      "4                                           Shampoo   PSOEH3ZYDMSYARJ5   \n",
      "5                                            Shorts   SRTEH2FVVKRBAXHB   \n",
      "6   FabHomeDecor Fabric Double Sofa Bed (Finish C...  SBEEH3QGYGHFUEXN   \n",
      "7   dilli bazaaar Bellies, Corporate Casuals, Cas...  SHOEH3DZBFR88SCK   \n",
      "8                                            Shorts   SRTEH2FVUHAAVH9X   \n",
      "9                                     Ladela Bellies  SHOEH4KM2W3Z6EH5   \n",
      "\n",
      "   retail_price  discounted_price  product_rating          Brand  \\\n",
      "0           999               379             2.0         Alisha   \n",
      "1         32157             22646             2.0   FabHomeDecor   \n",
      "2           999               499             1.0             AW   \n",
      "3           699               267             5.0         Alisha   \n",
      "4           220               210             5.0         Sicons   \n",
      "5          1199               479             4.0         Alisha   \n",
      "6         32157             22646             2.0   FabHomeDecor   \n",
      "7           699               349             5.0  dilli bazaaar   \n",
      "8          1199               479             1.0         Alisha   \n",
      "9          1724               950             5.0         Ladela   \n",
      "\n",
      "                              product_specifications  \\\n",
      "0  {\"product_specification\"=>[{\"key\"=>\"Number of ...   \n",
      "1  {\"product_specification\"=>[{\"key\"=>\"Installati...   \n",
      "2  {\"product_specification\"=>[{\"key\"=>\"Ideal For\"...   \n",
      "3  {\"product_specification\"=>[{\"key\"=>\"Number of ...   \n",
      "4  {\"product_specification\"=>[{\"key\"=>\"Pet Type\",...   \n",
      "5  {\"product_specification\"=>[{\"key\"=>\"Number of ...   \n",
      "6  {\"product_specification\"=>[{\"key\"=>\"Installati...   \n",
      "7  {\"product_specification\"=>[{\"key\"=>\"Occasion\",...   \n",
      "8  {\"product_specification\"=>[{\"key\"=>\"Number of ...   \n",
      "9  {\"product_specification\"=>[{\"key\"=>\"Occasion\",...   \n",
      "\n",
      "                                         description  \n",
      "0  Key Features of Alisha Solid Women's Cycling S...  \n",
      "1  FabHomeDecor Fabric Double Sofa Bed (Finish Co...  \n",
      "2  Key Features of AW Bellies Sandals Wedges Heel...  \n",
      "3  Key Features of Alisha Solid Women's Cycling S...  \n",
      "4  Specifications of Sicons All Purpose Arnica Do...  \n",
      "5  Key Features of Alisha Solid Women's Cycling S...  \n",
      "6  FabHomeDecor Fabric Double Sofa Bed (Finish Co...  \n",
      "7  Key Features of dilli bazaaar Bellies, Corpora...  \n",
      "8  Key Features of Alisha Solid Women's Cycling S...  \n",
      "9  Key Features of Ladela Bellies Brand: LADELA C...  \n"
     ]
    }
   ],
   "source": [
    "print(df.head(10))"
   ]
  },
  {
   "cell_type": "code",
   "execution_count": 32,
   "id": "afe71a68",
   "metadata": {
    "ExecuteTime": {
     "end_time": "2023-11-08T07:35:05.298702Z",
     "start_time": "2023-11-08T07:35:05.285814Z"
    }
   },
   "outputs": [
    {
     "name": "stdout",
     "output_type": "stream",
     "text": [
      "                      Customer_uniq_id Region  Order_Date  \\\n",
      "8917  4db03bc4ccbe216cf151b2f2b904ba3f  East   01-12-2020   \n",
      "8918  4d4d6aeb13fa253499d0dd45a5abd87e   West  01-12-2020   \n",
      "8919  ea19e7ef703293d3f6c799ca9db4642d   West  01-12-2020   \n",
      "8920  19a53a958992fb575acffb5d41e7ef9e  East   01-12-2020   \n",
      "8921  09abab80c8dfdc6f268e0a6f05a0be11  North  01-12-2020   \n",
      "8922  90d30478255e23621e8929ed15c2f6e4  South  01-12-2020   \n",
      "8923  20a73e3f41490a73ceeba5f17658db8f   West  01-12-2020   \n",
      "8924  5c1554cd45f9d538c2c6947dbdd59c75  East   01-12-2020   \n",
      "8925  6b737a4deca1ed0e56c179e66036e994   West  01-12-2020   \n",
      "8926  a5235ac28d3d5487f54025f9d6b57433  North  01-12-2020   \n",
      "\n",
      "     Expected_Delivery_Date Delivered_Date  \\\n",
      "8917             04-12-2020     04-12-2020   \n",
      "8918             04-12-2020     04-12-2020   \n",
      "8919             04-12-2020     04-12-2020   \n",
      "8920             04-12-2020     04-12-2020   \n",
      "8921             04-12-2020     04-12-2020   \n",
      "8922             04-12-2020     04-12-2020   \n",
      "8923             04-12-2020     04-12-2020   \n",
      "8924             04-12-2020     04-12-2020   \n",
      "8925             04-12-2020     04-12-2020   \n",
      "8926             04-12-2020     04-12-2020   \n",
      "\n",
      "                                           product_name product_main_category  \\\n",
      "8917                           Luca Fashion Girls Heels             Footwear    \n",
      "8918                            Shoetopia Girls Sandals             Footwear    \n",
      "8919                        SMART TRADERS Girls Sandals             Footwear    \n",
      "8920                                  Beanz Girls Flats             Footwear    \n",
      "8921                       Nova KT 728S Electric Kettle       Home & Kitchen    \n",
      "8922  Sinina Chanderi Embroidered Salwar Suit Dupatt...             Clothing    \n",
      "8923  Aarushi Fashion Chanderi Embroidered Salwar Su...             Clothing    \n",
      "8924  Ambika Lahenga Embroidered Lehenga, Choli and ...             Clothing    \n",
      "8925  Sinina Chanderi Embroidered Salwar Suit Dupatt...             Clothing    \n",
      "8926  Aarushi Fashion Silk Striped Salwar Suit Dupat...             Clothing    \n",
      "\n",
      "            product_subcategory                product_category_filter  \\\n",
      "8917   Kids' & Infant Footwear                              For Girls    \n",
      "8918   Kids' & Infant Footwear                              For Girls    \n",
      "8919   Kids' & Infant Footwear                              For Girls    \n",
      "8920   Kids' & Infant Footwear                              For Girls    \n",
      "8921        Kitchen Appliances    Electric Jug(heater)/Travel Kettles    \n",
      "8922          Women's Clothing                            Ethnic Wear    \n",
      "8923          Women's Clothing                            Ethnic Wear    \n",
      "8924          Women's Clothing                            Ethnic Wear    \n",
      "8925          Women's Clothing                            Ethnic Wear    \n",
      "8926          Women's Clothing                            Ethnic Wear    \n",
      "\n",
      "                      product_category_subfilter product_unique ID  \\\n",
      "8917                                    Sandals   SNDEHG3DNVBFGAT5   \n",
      "8918                                    Sandals   SNDEG7DRWSX8HFXZ   \n",
      "8919                                    Sandals   SNDEG7MZHHKZ58D2   \n",
      "8920                                    Sandals   SNDEG7DYVFWHZBC4   \n",
      "8921   Nova Electric Jug(heater)/Travel Kettles   EKTDG5C5QSADZZ8J   \n",
      "8922                                     Fabric   FABEGGHHDFMY8BZU   \n",
      "8923                                     Fabric   FABEG8GFDUWRSNU3   \n",
      "8924                             Lehenga Cholis   LEHEGGEHYN4G2RPW   \n",
      "8925                                     Fabric   FABEGGHHGSVCHGFV   \n",
      "8926                                     Fabric   FABEG8GYDAABECZH   \n",
      "\n",
      "      retail_price  discounted_price  product_rating            Brand  \\\n",
      "8917           999               499             4.0     Luca Fashion   \n",
      "8918           499               399             4.0        Shoetopia   \n",
      "8919           999               499             5.0    SMART TRADERS   \n",
      "8920          1299              1299             3.0            Beanz   \n",
      "8921          3195               699             3.6             Nova   \n",
      "8922          2980              1490             3.0           Sinina   \n",
      "8923          2600              1300             1.0  Aarushi Fashion   \n",
      "8924         39992             24995             1.0   Ambika Lahenga   \n",
      "8925          2000              1000             3.0           Sinina   \n",
      "8926          2800              1350             4.0  Aarushi Fashion   \n",
      "\n",
      "                                 product_specifications  \\\n",
      "8917  {\"product_specification\"=>[{\"key\"=>\"Occasion\",...   \n",
      "8918  {\"product_specification\"=>[{\"key\"=>\"Ideal For\"...   \n",
      "8919  {\"product_specification\"=>[{\"key\"=>\"Ideal For\"...   \n",
      "8920  {\"product_specification\"=>[{\"key\"=>\"Occasion\",...   \n",
      "8921  {\"product_specification\"=>[{\"key\"=>\"Brand\", \"v...   \n",
      "8922  {\"product_specification\"=>[{\"key\"=>\"Fabric\", \"...   \n",
      "8923  {\"product_specification\"=>[{\"key\"=>\"Fabric\", \"...   \n",
      "8924  {\"product_specification\"=>[{\"key\"=>\"Fabric\", \"...   \n",
      "8925  {\"product_specification\"=>[{\"key\"=>\"Fabric\", \"...   \n",
      "8926  {\"product_specification\"=>[{\"key\"=>\"Fabric\", \"...   \n",
      "\n",
      "                                            description  \n",
      "8917  Key Features of Luca Fashion Girls Heels Occas...  \n",
      "8918  Key Features of Shoetopia Girls Sandals Flats ...  \n",
      "8919  Key Features of SMART TRADERS Girls Sandals Oc...  \n",
      "8920  Key Features of Beanz Girls Flats Occasion: Ca...  \n",
      "8921  Specifications of Nova KT 728S Electric Kettle...  \n",
      "8922  Key Features of Sinina Chanderi Embroidered Sa...  \n",
      "8923  Key Features of Aarushi Fashion Chanderi Embro...  \n",
      "8924  Key Features of Ambika Lahenga Embroidered Leh...  \n",
      "8925  Key Features of Sinina Chanderi Embroidered Sa...  \n",
      "8926  Key Features of Aarushi Fashion Silk Striped S...  \n"
     ]
    }
   ],
   "source": [
    "print(df.tail(10))"
   ]
  },
  {
   "cell_type": "markdown",
   "id": "48baeda6",
   "metadata": {},
   "source": [
    "#### Ans 1 b)"
   ]
  },
  {
   "cell_type": "code",
   "execution_count": 33,
   "id": "0ac3ef5d",
   "metadata": {
    "ExecuteTime": {
     "end_time": "2023-11-08T07:35:16.089256Z",
     "start_time": "2023-11-08T07:35:16.081971Z"
    }
   },
   "outputs": [
    {
     "data": {
      "text/plain": [
       "(8927, 17)"
      ]
     },
     "execution_count": 33,
     "metadata": {},
     "output_type": "execute_result"
    }
   ],
   "source": [
    "df.shape"
   ]
  },
  {
   "cell_type": "code",
   "execution_count": 34,
   "id": "363a796b",
   "metadata": {
    "ExecuteTime": {
     "end_time": "2023-11-08T07:35:24.518907Z",
     "start_time": "2023-11-08T07:35:24.499543Z"
    }
   },
   "outputs": [
    {
     "name": "stdout",
     "output_type": "stream",
     "text": [
      "<class 'pandas.core.frame.DataFrame'>\n",
      "RangeIndex: 8927 entries, 0 to 8926\n",
      "Data columns (total 17 columns):\n",
      " #   Column                      Non-Null Count  Dtype  \n",
      "---  ------                      --------------  -----  \n",
      " 0   Customer_uniq_id            8927 non-null   object \n",
      " 1   Region                      8927 non-null   object \n",
      " 2   Order_Date                  8927 non-null   object \n",
      " 3   Expected_Delivery_Date      8927 non-null   object \n",
      " 4   Delivered_Date              8927 non-null   object \n",
      " 5   product_name                8927 non-null   object \n",
      " 6   product_main_category       8927 non-null   object \n",
      " 7   product_subcategory         8927 non-null   object \n",
      " 8   product_category_filter     8927 non-null   object \n",
      " 9   product_category_subfilter  8927 non-null   object \n",
      " 10  product_unique ID           8927 non-null   object \n",
      " 11  retail_price                8927 non-null   int64  \n",
      " 12  discounted_price            8927 non-null   int64  \n",
      " 13  product_rating              8927 non-null   float64\n",
      " 14  Brand                       8927 non-null   object \n",
      " 15  product_specifications      8927 non-null   object \n",
      " 16  description                 8927 non-null   object \n",
      "dtypes: float64(1), int64(2), object(14)\n",
      "memory usage: 1.2+ MB\n"
     ]
    }
   ],
   "source": [
    "df.info()"
   ]
  },
  {
   "cell_type": "markdown",
   "id": "6aaa54a0",
   "metadata": {},
   "source": [
    "#### Ans  1 c)"
   ]
  },
  {
   "cell_type": "code",
   "execution_count": 36,
   "id": "115627b2",
   "metadata": {
    "ExecuteTime": {
     "end_time": "2023-11-08T07:35:39.117881Z",
     "start_time": "2023-11-08T07:35:39.098797Z"
    }
   },
   "outputs": [
    {
     "name": "stdout",
     "output_type": "stream",
     "text": [
      "<class 'pandas.core.frame.DataFrame'>\n",
      "RangeIndex: 8927 entries, 0 to 8926\n",
      "Data columns (total 17 columns):\n",
      " #   Column                      Non-Null Count  Dtype  \n",
      "---  ------                      --------------  -----  \n",
      " 0   Customer_uniq_id            8927 non-null   object \n",
      " 1   Region                      8927 non-null   object \n",
      " 2   Order_Date                  8927 non-null   object \n",
      " 3   Expected_Delivery_Date      8927 non-null   object \n",
      " 4   Delivered_Date              8927 non-null   object \n",
      " 5   product_name                8927 non-null   object \n",
      " 6   product_main_category       8927 non-null   object \n",
      " 7   product_subcategory         8927 non-null   object \n",
      " 8   product_category_filter     8927 non-null   object \n",
      " 9   product_category_subfilter  8927 non-null   object \n",
      " 10  product_unique ID           8927 non-null   object \n",
      " 11  retail_price                8927 non-null   int64  \n",
      " 12  discounted_price            8927 non-null   int64  \n",
      " 13  product_rating              8927 non-null   float64\n",
      " 14  Brand                       8927 non-null   object \n",
      " 15  product_specifications      8927 non-null   object \n",
      " 16  description                 8927 non-null   object \n",
      "dtypes: float64(1), int64(2), object(14)\n",
      "memory usage: 1.2+ MB\n"
     ]
    }
   ],
   "source": [
    "df.info()"
   ]
  },
  {
   "cell_type": "markdown",
   "id": "2f4ec16c",
   "metadata": {},
   "source": [
    "# 14 objects are there in given data set"
   ]
  },
  {
   "cell_type": "markdown",
   "id": "5e63573c",
   "metadata": {},
   "source": [
    "### Ans 1 d)"
   ]
  },
  {
   "cell_type": "markdown",
   "id": "b7478f85",
   "metadata": {},
   "source": [
    "# no boolean data types"
   ]
  },
  {
   "cell_type": "markdown",
   "id": "cc5d76f1",
   "metadata": {},
   "source": [
    "<font color='blue'>\n",
    "    <font size = 5>\n",
    " Once you are familiar with the data, you may decide that not all features are of use to you and you may want to delete the non-informative features (columns)</font>"
   ]
  },
  {
   "cell_type": "markdown",
   "id": "90db65ce",
   "metadata": {},
   "source": [
    "## Q 2.\tEliminating the non-informative columns.\n",
    "## a)\tDrop the columns product_specifications and description. (2 marks) \n",
    "## b)\tWhich method or function is used to permanently delete the columns mentioned in part (b)? Write the code explicitly (2 marks)\n",
    "### Note: Use the markdown feature of Python to explain your answer.\n"
   ]
  },
  {
   "cell_type": "markdown",
   "id": "e0e7e762",
   "metadata": {},
   "source": [
    "### Ans 2 a)"
   ]
  },
  {
   "cell_type": "code",
   "execution_count": 39,
   "id": "87251d0b",
   "metadata": {
    "ExecuteTime": {
     "end_time": "2023-11-08T07:36:24.461570Z",
     "start_time": "2023-11-08T07:36:24.435113Z"
    }
   },
   "outputs": [
    {
     "data": {
      "text/html": [
       "<div>\n",
       "<style scoped>\n",
       "    .dataframe tbody tr th:only-of-type {\n",
       "        vertical-align: middle;\n",
       "    }\n",
       "\n",
       "    .dataframe tbody tr th {\n",
       "        vertical-align: top;\n",
       "    }\n",
       "\n",
       "    .dataframe thead th {\n",
       "        text-align: right;\n",
       "    }\n",
       "</style>\n",
       "<table border=\"1\" class=\"dataframe\">\n",
       "  <thead>\n",
       "    <tr style=\"text-align: right;\">\n",
       "      <th></th>\n",
       "      <th>Customer_uniq_id</th>\n",
       "      <th>Region</th>\n",
       "      <th>Order_Date</th>\n",
       "      <th>Expected_Delivery_Date</th>\n",
       "      <th>Delivered_Date</th>\n",
       "      <th>product_name</th>\n",
       "      <th>product_main_category</th>\n",
       "      <th>product_subcategory</th>\n",
       "      <th>product_category_filter</th>\n",
       "      <th>product_category_subfilter</th>\n",
       "      <th>product_unique ID</th>\n",
       "      <th>retail_price</th>\n",
       "      <th>discounted_price</th>\n",
       "      <th>product_rating</th>\n",
       "      <th>Brand</th>\n",
       "    </tr>\n",
       "  </thead>\n",
       "  <tbody>\n",
       "    <tr>\n",
       "      <th>0</th>\n",
       "      <td>c2d766ca982eca8304150849735ffef9</td>\n",
       "      <td>North</td>\n",
       "      <td>31-12-2021</td>\n",
       "      <td>03-01-2022</td>\n",
       "      <td>02-01-2022</td>\n",
       "      <td>Alisha Solid Women's Cycling Shorts</td>\n",
       "      <td>Clothing</td>\n",
       "      <td>Women's Clothing</td>\n",
       "      <td>Lingerie, Sleep &amp; Swimwear</td>\n",
       "      <td>Shorts</td>\n",
       "      <td>SRTEH2FF9KEDEFGF</td>\n",
       "      <td>999</td>\n",
       "      <td>379</td>\n",
       "      <td>2.0</td>\n",
       "      <td>Alisha</td>\n",
       "    </tr>\n",
       "    <tr>\n",
       "      <th>1</th>\n",
       "      <td>7f7036a6d550aaa89d34c77bd39a5e48</td>\n",
       "      <td>East</td>\n",
       "      <td>31-12-2021</td>\n",
       "      <td>03-01-2022</td>\n",
       "      <td>02-01-2022</td>\n",
       "      <td>FabHomeDecor Fabric Double Sofa Bed</td>\n",
       "      <td>Furniture</td>\n",
       "      <td>Living Room Furniture</td>\n",
       "      <td>Sofa Beds &amp; Futons</td>\n",
       "      <td>FabHomeDecor Fabric Double Sofa Bed (Finish C...</td>\n",
       "      <td>SBEEH3QGU7MFYJFY</td>\n",
       "      <td>32157</td>\n",
       "      <td>22646</td>\n",
       "      <td>2.0</td>\n",
       "      <td>FabHomeDecor</td>\n",
       "    </tr>\n",
       "    <tr>\n",
       "      <th>2</th>\n",
       "      <td>f449ec65dcbc041b6ae5e6a32717d01b</td>\n",
       "      <td>East</td>\n",
       "      <td>31-12-2021</td>\n",
       "      <td>03-01-2022</td>\n",
       "      <td>02-01-2022</td>\n",
       "      <td>AW Bellies</td>\n",
       "      <td>Footwear</td>\n",
       "      <td>Women's Footwear</td>\n",
       "      <td>Ballerinas</td>\n",
       "      <td>AW Bellies</td>\n",
       "      <td>SHOEH4GRSUBJGZXE</td>\n",
       "      <td>999</td>\n",
       "      <td>499</td>\n",
       "      <td>1.0</td>\n",
       "      <td>AW</td>\n",
       "    </tr>\n",
       "    <tr>\n",
       "      <th>3</th>\n",
       "      <td>0973b37acd0c664e3de26e97e5571454</td>\n",
       "      <td>West</td>\n",
       "      <td>31-12-2021</td>\n",
       "      <td>03-01-2022</td>\n",
       "      <td>02-01-2022</td>\n",
       "      <td>Alisha Solid Women's Cycling Shorts</td>\n",
       "      <td>Clothing</td>\n",
       "      <td>Women's Clothing</td>\n",
       "      <td>Lingerie, Sleep &amp; Swimwear</td>\n",
       "      <td>Shorts</td>\n",
       "      <td>SRTEH2F6HUZMQ6SJ</td>\n",
       "      <td>699</td>\n",
       "      <td>267</td>\n",
       "      <td>5.0</td>\n",
       "      <td>Alisha</td>\n",
       "    </tr>\n",
       "    <tr>\n",
       "      <th>4</th>\n",
       "      <td>bc940ea42ee6bef5ac7cea3fb5cfbee7</td>\n",
       "      <td>West</td>\n",
       "      <td>31-12-2021</td>\n",
       "      <td>03-01-2022</td>\n",
       "      <td>02-01-2022</td>\n",
       "      <td>Sicons All Purpose Arnica Dog Shampoo</td>\n",
       "      <td>Pet Supplies</td>\n",
       "      <td>Grooming</td>\n",
       "      <td>Skin &amp; Coat Care</td>\n",
       "      <td>Shampoo</td>\n",
       "      <td>PSOEH3ZYDMSYARJ5</td>\n",
       "      <td>220</td>\n",
       "      <td>210</td>\n",
       "      <td>5.0</td>\n",
       "      <td>Sicons</td>\n",
       "    </tr>\n",
       "    <tr>\n",
       "      <th>...</th>\n",
       "      <td>...</td>\n",
       "      <td>...</td>\n",
       "      <td>...</td>\n",
       "      <td>...</td>\n",
       "      <td>...</td>\n",
       "      <td>...</td>\n",
       "      <td>...</td>\n",
       "      <td>...</td>\n",
       "      <td>...</td>\n",
       "      <td>...</td>\n",
       "      <td>...</td>\n",
       "      <td>...</td>\n",
       "      <td>...</td>\n",
       "      <td>...</td>\n",
       "      <td>...</td>\n",
       "    </tr>\n",
       "    <tr>\n",
       "      <th>8922</th>\n",
       "      <td>90d30478255e23621e8929ed15c2f6e4</td>\n",
       "      <td>South</td>\n",
       "      <td>01-12-2020</td>\n",
       "      <td>04-12-2020</td>\n",
       "      <td>04-12-2020</td>\n",
       "      <td>Sinina Chanderi Embroidered Salwar Suit Dupatt...</td>\n",
       "      <td>Clothing</td>\n",
       "      <td>Women's Clothing</td>\n",
       "      <td>Ethnic Wear</td>\n",
       "      <td>Fabric</td>\n",
       "      <td>FABEGGHHDFMY8BZU</td>\n",
       "      <td>2980</td>\n",
       "      <td>1490</td>\n",
       "      <td>3.0</td>\n",
       "      <td>Sinina</td>\n",
       "    </tr>\n",
       "    <tr>\n",
       "      <th>8923</th>\n",
       "      <td>20a73e3f41490a73ceeba5f17658db8f</td>\n",
       "      <td>West</td>\n",
       "      <td>01-12-2020</td>\n",
       "      <td>04-12-2020</td>\n",
       "      <td>04-12-2020</td>\n",
       "      <td>Aarushi Fashion Chanderi Embroidered Salwar Su...</td>\n",
       "      <td>Clothing</td>\n",
       "      <td>Women's Clothing</td>\n",
       "      <td>Ethnic Wear</td>\n",
       "      <td>Fabric</td>\n",
       "      <td>FABEG8GFDUWRSNU3</td>\n",
       "      <td>2600</td>\n",
       "      <td>1300</td>\n",
       "      <td>1.0</td>\n",
       "      <td>Aarushi Fashion</td>\n",
       "    </tr>\n",
       "    <tr>\n",
       "      <th>8924</th>\n",
       "      <td>5c1554cd45f9d538c2c6947dbdd59c75</td>\n",
       "      <td>East</td>\n",
       "      <td>01-12-2020</td>\n",
       "      <td>04-12-2020</td>\n",
       "      <td>04-12-2020</td>\n",
       "      <td>Ambika Lahenga Embroidered Lehenga, Choli and ...</td>\n",
       "      <td>Clothing</td>\n",
       "      <td>Women's Clothing</td>\n",
       "      <td>Ethnic Wear</td>\n",
       "      <td>Lehenga Cholis</td>\n",
       "      <td>LEHEGGEHYN4G2RPW</td>\n",
       "      <td>39992</td>\n",
       "      <td>24995</td>\n",
       "      <td>1.0</td>\n",
       "      <td>Ambika Lahenga</td>\n",
       "    </tr>\n",
       "    <tr>\n",
       "      <th>8925</th>\n",
       "      <td>6b737a4deca1ed0e56c179e66036e994</td>\n",
       "      <td>West</td>\n",
       "      <td>01-12-2020</td>\n",
       "      <td>04-12-2020</td>\n",
       "      <td>04-12-2020</td>\n",
       "      <td>Sinina Chanderi Embroidered Salwar Suit Dupatt...</td>\n",
       "      <td>Clothing</td>\n",
       "      <td>Women's Clothing</td>\n",
       "      <td>Ethnic Wear</td>\n",
       "      <td>Fabric</td>\n",
       "      <td>FABEGGHHGSVCHGFV</td>\n",
       "      <td>2000</td>\n",
       "      <td>1000</td>\n",
       "      <td>3.0</td>\n",
       "      <td>Sinina</td>\n",
       "    </tr>\n",
       "    <tr>\n",
       "      <th>8926</th>\n",
       "      <td>a5235ac28d3d5487f54025f9d6b57433</td>\n",
       "      <td>North</td>\n",
       "      <td>01-12-2020</td>\n",
       "      <td>04-12-2020</td>\n",
       "      <td>04-12-2020</td>\n",
       "      <td>Aarushi Fashion Silk Striped Salwar Suit Dupat...</td>\n",
       "      <td>Clothing</td>\n",
       "      <td>Women's Clothing</td>\n",
       "      <td>Ethnic Wear</td>\n",
       "      <td>Fabric</td>\n",
       "      <td>FABEG8GYDAABECZH</td>\n",
       "      <td>2800</td>\n",
       "      <td>1350</td>\n",
       "      <td>4.0</td>\n",
       "      <td>Aarushi Fashion</td>\n",
       "    </tr>\n",
       "  </tbody>\n",
       "</table>\n",
       "<p>8927 rows × 15 columns</p>\n",
       "</div>"
      ],
      "text/plain": [
       "                      Customer_uniq_id Region  Order_Date  \\\n",
       "0     c2d766ca982eca8304150849735ffef9  North  31-12-2021   \n",
       "1     7f7036a6d550aaa89d34c77bd39a5e48  East   31-12-2021   \n",
       "2     f449ec65dcbc041b6ae5e6a32717d01b  East   31-12-2021   \n",
       "3     0973b37acd0c664e3de26e97e5571454   West  31-12-2021   \n",
       "4     bc940ea42ee6bef5ac7cea3fb5cfbee7   West  31-12-2021   \n",
       "...                                ...    ...         ...   \n",
       "8922  90d30478255e23621e8929ed15c2f6e4  South  01-12-2020   \n",
       "8923  20a73e3f41490a73ceeba5f17658db8f   West  01-12-2020   \n",
       "8924  5c1554cd45f9d538c2c6947dbdd59c75  East   01-12-2020   \n",
       "8925  6b737a4deca1ed0e56c179e66036e994   West  01-12-2020   \n",
       "8926  a5235ac28d3d5487f54025f9d6b57433  North  01-12-2020   \n",
       "\n",
       "     Expected_Delivery_Date Delivered_Date  \\\n",
       "0                03-01-2022     02-01-2022   \n",
       "1                03-01-2022     02-01-2022   \n",
       "2                03-01-2022     02-01-2022   \n",
       "3                03-01-2022     02-01-2022   \n",
       "4                03-01-2022     02-01-2022   \n",
       "...                     ...            ...   \n",
       "8922             04-12-2020     04-12-2020   \n",
       "8923             04-12-2020     04-12-2020   \n",
       "8924             04-12-2020     04-12-2020   \n",
       "8925             04-12-2020     04-12-2020   \n",
       "8926             04-12-2020     04-12-2020   \n",
       "\n",
       "                                           product_name product_main_category  \\\n",
       "0                   Alisha Solid Women's Cycling Shorts             Clothing    \n",
       "1                   FabHomeDecor Fabric Double Sofa Bed            Furniture    \n",
       "2                                            AW Bellies             Footwear    \n",
       "3                   Alisha Solid Women's Cycling Shorts             Clothing    \n",
       "4                 Sicons All Purpose Arnica Dog Shampoo         Pet Supplies    \n",
       "...                                                 ...                   ...   \n",
       "8922  Sinina Chanderi Embroidered Salwar Suit Dupatt...             Clothing    \n",
       "8923  Aarushi Fashion Chanderi Embroidered Salwar Su...             Clothing    \n",
       "8924  Ambika Lahenga Embroidered Lehenga, Choli and ...             Clothing    \n",
       "8925  Sinina Chanderi Embroidered Salwar Suit Dupatt...             Clothing    \n",
       "8926  Aarushi Fashion Silk Striped Salwar Suit Dupat...             Clothing    \n",
       "\n",
       "          product_subcategory       product_category_filter  \\\n",
       "0           Women's Clothing    Lingerie, Sleep & Swimwear    \n",
       "1      Living Room Furniture            Sofa Beds & Futons    \n",
       "2           Women's Footwear                    Ballerinas    \n",
       "3           Women's Clothing    Lingerie, Sleep & Swimwear    \n",
       "4                   Grooming              Skin & Coat Care    \n",
       "...                       ...                           ...   \n",
       "8922        Women's Clothing                   Ethnic Wear    \n",
       "8923        Women's Clothing                   Ethnic Wear    \n",
       "8924        Women's Clothing                   Ethnic Wear    \n",
       "8925        Women's Clothing                   Ethnic Wear    \n",
       "8926        Women's Clothing                   Ethnic Wear    \n",
       "\n",
       "                             product_category_subfilter product_unique ID  \\\n",
       "0                                               Shorts   SRTEH2FF9KEDEFGF   \n",
       "1      FabHomeDecor Fabric Double Sofa Bed (Finish C...  SBEEH3QGU7MFYJFY   \n",
       "2                                            AW Bellies  SHOEH4GRSUBJGZXE   \n",
       "3                                               Shorts   SRTEH2F6HUZMQ6SJ   \n",
       "4                                              Shampoo   PSOEH3ZYDMSYARJ5   \n",
       "...                                                 ...               ...   \n",
       "8922                                            Fabric   FABEGGHHDFMY8BZU   \n",
       "8923                                            Fabric   FABEG8GFDUWRSNU3   \n",
       "8924                                    Lehenga Cholis   LEHEGGEHYN4G2RPW   \n",
       "8925                                            Fabric   FABEGGHHGSVCHGFV   \n",
       "8926                                            Fabric   FABEG8GYDAABECZH   \n",
       "\n",
       "      retail_price  discounted_price  product_rating            Brand  \n",
       "0              999               379             2.0           Alisha  \n",
       "1            32157             22646             2.0     FabHomeDecor  \n",
       "2              999               499             1.0               AW  \n",
       "3              699               267             5.0           Alisha  \n",
       "4              220               210             5.0           Sicons  \n",
       "...            ...               ...             ...              ...  \n",
       "8922          2980              1490             3.0           Sinina  \n",
       "8923          2600              1300             1.0  Aarushi Fashion  \n",
       "8924         39992             24995             1.0   Ambika Lahenga  \n",
       "8925          2000              1000             3.0           Sinina  \n",
       "8926          2800              1350             4.0  Aarushi Fashion  \n",
       "\n",
       "[8927 rows x 15 columns]"
      ]
     },
     "execution_count": 39,
     "metadata": {},
     "output_type": "execute_result"
    }
   ],
   "source": [
    "df.drop(columns=['product_specifications','description'],axis=1)"
   ]
  },
  {
   "cell_type": "markdown",
   "id": "e6159f6a",
   "metadata": {},
   "source": [
    "### Ans 2 b)"
   ]
  },
  {
   "cell_type": "code",
   "execution_count": 25,
   "id": "5f86e17e",
   "metadata": {
    "ExecuteTime": {
     "end_time": "2023-11-08T07:33:52.796871Z",
     "start_time": "2023-11-08T07:33:52.792963Z"
    }
   },
   "outputs": [],
   "source": [
    "# inplcae =True"
   ]
  },
  {
   "cell_type": "code",
   "execution_count": 38,
   "id": "f776f06c",
   "metadata": {
    "ExecuteTime": {
     "end_time": "2023-11-08T07:36:13.895530Z",
     "start_time": "2023-11-08T07:36:13.549740Z"
    }
   },
   "outputs": [],
   "source": [
    "df_delete=pd.read_csv('E-Commerce.csv')      # there is no need to do this u give above code inplace =True\n",
    "df_delete.drop(columns=['product_specifications','description'],inplace=True)  "
   ]
  },
  {
   "cell_type": "markdown",
   "id": "cde421e0",
   "metadata": {},
   "source": [
    "<font color='blue'>\n",
    "    <font size = 5>\n",
    "        The next steps in this project involves summarization of data at various levels and visualization. Such apparently simple steps are very useful to get an overall sense of the data.\n",
    "    </font>"
   ]
  },
  {
   "cell_type": "markdown",
   "id": "41c30ad7",
   "metadata": {},
   "source": [
    "## Q 3. Here we summarize the data at brand level.\n",
    "## a) How many unique Brands are there. (1 mark)\n",
    "## b) Note that each brand contains multiple products. Show the average rating of the products within each Brand (2 marks)\n"
   ]
  },
  {
   "cell_type": "markdown",
   "id": "beb3f83f",
   "metadata": {},
   "source": [
    "### Ans 3 a)"
   ]
  },
  {
   "cell_type": "code",
   "execution_count": 40,
   "id": "41dcb79f",
   "metadata": {
    "ExecuteTime": {
     "end_time": "2023-11-08T07:37:35.631887Z",
     "start_time": "2023-11-08T07:37:35.624555Z"
    }
   },
   "outputs": [
    {
     "data": {
      "text/plain": [
       "2580"
      ]
     },
     "execution_count": 40,
     "metadata": {},
     "output_type": "execute_result"
    }
   ],
   "source": [
    "df['Brand'].nunique()"
   ]
  },
  {
   "cell_type": "markdown",
   "id": "5083d866",
   "metadata": {},
   "source": [
    "### Ans 3 b)"
   ]
  },
  {
   "cell_type": "code",
   "execution_count": 46,
   "id": "10018c2c",
   "metadata": {
    "ExecuteTime": {
     "end_time": "2023-11-08T07:40:22.367127Z",
     "start_time": "2023-11-08T07:40:22.350384Z"
    }
   },
   "outputs": [
    {
     "data": {
      "text/plain": [
       "Brand\n",
       " Tarkan      5.0\n",
       "Ceela        5.0\n",
       "Chipmunk     5.0\n",
       "Chipchop     5.0\n",
       "Panit        5.0\n",
       "            ... \n",
       "Prestige     1.0\n",
       "Wi Retail    1.0\n",
       "Lakos        1.0\n",
       "Polki        1.0\n",
       "Skanders     1.0\n",
       "Name: product_rating, Length: 2580, dtype: float64"
      ]
     },
     "execution_count": 46,
     "metadata": {},
     "output_type": "execute_result"
    }
   ],
   "source": [
    "df.groupby('Brand')['product_rating'].mean().sort_values(ascending=False)"
   ]
  },
  {
   "cell_type": "code",
   "execution_count": 50,
   "id": "b2b0f872",
   "metadata": {
    "ExecuteTime": {
     "end_time": "2023-11-08T07:46:12.903639Z",
     "start_time": "2023-11-08T07:46:12.881055Z"
    }
   },
   "outputs": [
    {
     "data": {
      "text/html": [
       "<div>\n",
       "<style scoped>\n",
       "    .dataframe tbody tr th:only-of-type {\n",
       "        vertical-align: middle;\n",
       "    }\n",
       "\n",
       "    .dataframe tbody tr th {\n",
       "        vertical-align: top;\n",
       "    }\n",
       "\n",
       "    .dataframe thead th {\n",
       "        text-align: right;\n",
       "    }\n",
       "</style>\n",
       "<table border=\"1\" class=\"dataframe\">\n",
       "  <thead>\n",
       "    <tr style=\"text-align: right;\">\n",
       "      <th></th>\n",
       "      <th>product_rating</th>\n",
       "      <th>Region</th>\n",
       "    </tr>\n",
       "    <tr>\n",
       "      <th>Brand</th>\n",
       "      <th></th>\n",
       "      <th></th>\n",
       "    </tr>\n",
       "  </thead>\n",
       "  <tbody>\n",
       "    <tr>\n",
       "      <th>Bosch</th>\n",
       "      <td>4.863636</td>\n",
       "      <td>11</td>\n",
       "    </tr>\n",
       "    <tr>\n",
       "      <th>D-Link</th>\n",
       "      <td>4.030769</td>\n",
       "      <td>13</td>\n",
       "    </tr>\n",
       "    <tr>\n",
       "      <th>DGB</th>\n",
       "      <td>4.500000</td>\n",
       "      <td>5</td>\n",
       "    </tr>\n",
       "    <tr>\n",
       "      <th>FIFO</th>\n",
       "      <td>4.400000</td>\n",
       "      <td>5</td>\n",
       "    </tr>\n",
       "    <tr>\n",
       "      <th>Gravolite</th>\n",
       "      <td>4.400000</td>\n",
       "      <td>10</td>\n",
       "    </tr>\n",
       "    <tr>\n",
       "      <th>Netgear</th>\n",
       "      <td>4.070588</td>\n",
       "      <td>17</td>\n",
       "    </tr>\n",
       "    <tr>\n",
       "      <th>Orcel</th>\n",
       "      <td>4.400000</td>\n",
       "      <td>5</td>\n",
       "    </tr>\n",
       "    <tr>\n",
       "      <th>Pink Rose</th>\n",
       "      <td>4.285714</td>\n",
       "      <td>7</td>\n",
       "    </tr>\n",
       "    <tr>\n",
       "      <th>Suruchi</th>\n",
       "      <td>4.400000</td>\n",
       "      <td>5</td>\n",
       "    </tr>\n",
       "    <tr>\n",
       "      <th>TRENDnet</th>\n",
       "      <td>4.571429</td>\n",
       "      <td>7</td>\n",
       "    </tr>\n",
       "    <tr>\n",
       "      <th>Unique Designes</th>\n",
       "      <td>4.200000</td>\n",
       "      <td>5</td>\n",
       "    </tr>\n",
       "    <tr>\n",
       "      <th>ZAIRE</th>\n",
       "      <td>4.166667</td>\n",
       "      <td>6</td>\n",
       "    </tr>\n",
       "  </tbody>\n",
       "</table>\n",
       "</div>"
      ],
      "text/plain": [
       "                 product_rating  Region\n",
       "Brand                                  \n",
       "Bosch                  4.863636      11\n",
       "D-Link                 4.030769      13\n",
       "DGB                    4.500000       5\n",
       "FIFO                   4.400000       5\n",
       "Gravolite              4.400000      10\n",
       "Netgear                4.070588      17\n",
       "Orcel                  4.400000       5\n",
       "Pink Rose              4.285714       7\n",
       "Suruchi                4.400000       5\n",
       "TRENDnet               4.571429       7\n",
       "Unique Designes        4.200000       5\n",
       "ZAIRE                  4.166667       6"
      ]
     },
     "execution_count": 50,
     "metadata": {},
     "output_type": "execute_result"
    }
   ],
   "source": [
    "product = df.groupby('Brand').agg({'product_rating':'mean','Region':'count'})\n",
    "product.query('Region>=5 and product_rating>4')"
   ]
  },
  {
   "cell_type": "markdown",
   "id": "bbf162af",
   "metadata": {},
   "source": [
    "## Q 4. Next we study the main categories of the products.\n",
    "\n",
    "## a) Create an appropriate plot to show the count of items ordered for each product_main_category. (5 marks).\n",
    "\n",
    "### Hint: Create a bar chart titled \"Product Category type\" where product names are on x-axis and counts are on y-axis.\n",
    "\n",
    "### Note: Both axis labels, i.e. the names of the product categories and counts must be clearly legible. \n",
    "\n",
    "## b) From the plot identify for which two product_main_category(s) the maximum and the minimum orders were placed. (2 marks)\n",
    "\n",
    "## c) Write code to print out the top 5 product_main_category(s)  in descending order? (2 marks"
   ]
  },
  {
   "cell_type": "markdown",
   "id": "36c72928",
   "metadata": {},
   "source": [
    "### Ans 4 a)"
   ]
  },
  {
   "cell_type": "code",
   "execution_count": 51,
   "id": "5c65c13f",
   "metadata": {
    "ExecuteTime": {
     "end_time": "2023-11-08T07:50:24.530641Z",
     "start_time": "2023-11-08T07:50:23.816004Z"
    }
   },
   "outputs": [
    {
     "data": {
      "image/png": "[encoded data removed]",
      "text/plain": [
       "<Figure size 1500x600 with 1 Axes>"
      ]
     },
     "metadata": {},
     "output_type": "display_data"
    }
   ],
   "source": [
    "plt.figure(figsize=(15,6))\n",
    "ax=sns.countplot(data=df,x='product_main_category',order=df['product_main_category'].value_counts().index)\n",
    "plt.bar_label(ax.containers[0])\n",
    "plt.xticks(rotation=90)\n",
    "plt.title('count by each product')\n",
    "plt.show()"
   ]
  },
  {
   "cell_type": "code",
   "execution_count": null,
   "id": "f60dd2c1",
   "metadata": {
    "ExecuteTime": {
     "end_time": "2023-11-08T05:42:05.487182Z",
     "start_time": "2023-11-08T05:42:05.476851Z"
    }
   },
   "outputs": [],
   "source": []
  },
  {
   "cell_type": "markdown",
   "id": "13a5b355",
   "metadata": {},
   "source": [
    "### Ans 4 b)"
   ]
  },
  {
   "cell_type": "markdown",
   "id": "8e22879c",
   "metadata": {},
   "source": [
    "# clothing and mobiles & accessories maximum and minimum is wearable smart devices and food and nutrition"
   ]
  },
  {
   "cell_type": "markdown",
   "id": "4ea60c92",
   "metadata": {},
   "source": [
    "### Ans 4 c)"
   ]
  },
  {
   "cell_type": "code",
   "execution_count": 14,
   "id": "7f704116",
   "metadata": {
    "ExecuteTime": {
     "end_time": "2023-11-08T06:15:30.890323Z",
     "start_time": "2023-11-08T06:15:30.880447Z"
    }
   },
   "outputs": [
    {
     "data": {
      "text/plain": [
       "product_main_category\n",
       "Clothing                       2952\n",
       "Mobiles & Accessories          1084\n",
       "Automotive                     1001\n",
       "Home Decor & Festive Needs      727\n",
       "Computers                       558\n",
       "Name: count, dtype: int64"
      ]
     },
     "execution_count": 14,
     "metadata": {},
     "output_type": "execute_result"
    }
   ],
   "source": [
    "df['product_main_category'].value_counts().head()"
   ]
  },
  {
   "cell_type": "markdown",
   "id": "a9f81605",
   "metadata": {},
   "source": [
    "<font color='blue'>\n",
    "    <font size = 5>\n",
    "    In E-commerce, both the retailers (here brands) and the company have to make profit to sustain in the business. \n",
    "    The E-Commerce company has the following rule for computing their own revenue, which depends on how much each retailer can sell. </font>\n",
    "    \n",
    "####     The company charges each retailer (Brand) \n",
    "####  (i)\t25% on the final price (discounted price) if it is more than 600        \n",
    "####  (ii) 15% on the final price (discounted price) if it is greater than 350 but less than or equal to 600 \n",
    "####  (iii) 10% on the final price (discounted price) if it is greater than 100 but less than or equal to 350 \n",
    "####  (iv) Otherwise, 5% on the final price (discounted price) \n",
    "\n",
    "   </font> "
   ]
  },
  {
   "cell_type": "markdown",
   "id": "0f255fea",
   "metadata": {},
   "source": [
    "## Q 5. Find the net revenue generated by the E-Commerce company over all orders placed. (6 marks)"
   ]
  },
  {
   "cell_type": "markdown",
   "id": "1f6b8028",
   "metadata": {},
   "source": [
    "### Ans 5"
   ]
  },
  {
   "cell_type": "code",
   "execution_count": 52,
   "id": "c62d888f",
   "metadata": {
    "ExecuteTime": {
     "end_time": "2023-11-08T07:54:28.323518Z",
     "start_time": "2023-11-08T07:54:28.317101Z"
    }
   },
   "outputs": [],
   "source": [
    "def commision(col):\n",
    "    if col>600:\n",
    "        return col*0.25\n",
    "    elif col>350 and col<=600:\n",
    "        return col*0.15\n",
    "    elif col>100 and col<=350:\n",
    "        return col*0.1\n",
    "    else:\n",
    "        return col*0.05"
   ]
  },
  {
   "cell_type": "code",
   "execution_count": 55,
   "id": "2c978c61",
   "metadata": {
    "ExecuteTime": {
     "end_time": "2023-11-08T07:56:37.777911Z",
     "start_time": "2023-11-08T07:56:37.765990Z"
    }
   },
   "outputs": [],
   "source": [
    "df['ecom_revenue']=df['discounted_price'].apply(commision) # .apply() is kind of loop"
   ]
  },
  {
   "cell_type": "code",
   "execution_count": 56,
   "id": "94660342",
   "metadata": {
    "ExecuteTime": {
     "end_time": "2023-11-08T07:56:42.129721Z",
     "start_time": "2023-11-08T07:56:42.110511Z"
    }
   },
   "outputs": [
    {
     "data": {
      "text/html": [
       "<div>\n",
       "<style scoped>\n",
       "    .dataframe tbody tr th:only-of-type {\n",
       "        vertical-align: middle;\n",
       "    }\n",
       "\n",
       "    .dataframe tbody tr th {\n",
       "        vertical-align: top;\n",
       "    }\n",
       "\n",
       "    .dataframe thead th {\n",
       "        text-align: right;\n",
       "    }\n",
       "</style>\n",
       "<table border=\"1\" class=\"dataframe\">\n",
       "  <thead>\n",
       "    <tr style=\"text-align: right;\">\n",
       "      <th></th>\n",
       "      <th>Customer_uniq_id</th>\n",
       "      <th>Region</th>\n",
       "      <th>Order_Date</th>\n",
       "      <th>Expected_Delivery_Date</th>\n",
       "      <th>Delivered_Date</th>\n",
       "      <th>product_name</th>\n",
       "      <th>product_main_category</th>\n",
       "      <th>product_subcategory</th>\n",
       "      <th>product_category_filter</th>\n",
       "      <th>product_category_subfilter</th>\n",
       "      <th>product_unique ID</th>\n",
       "      <th>retail_price</th>\n",
       "      <th>discounted_price</th>\n",
       "      <th>product_rating</th>\n",
       "      <th>Brand</th>\n",
       "      <th>product_specifications</th>\n",
       "      <th>description</th>\n",
       "      <th>ecom_revenue</th>\n",
       "    </tr>\n",
       "  </thead>\n",
       "  <tbody>\n",
       "    <tr>\n",
       "      <th>0</th>\n",
       "      <td>c2d766ca982eca8304150849735ffef9</td>\n",
       "      <td>North</td>\n",
       "      <td>31-12-2021</td>\n",
       "      <td>03-01-2022</td>\n",
       "      <td>02-01-2022</td>\n",
       "      <td>Alisha Solid Women's Cycling Shorts</td>\n",
       "      <td>Clothing</td>\n",
       "      <td>Women's Clothing</td>\n",
       "      <td>Lingerie, Sleep &amp; Swimwear</td>\n",
       "      <td>Shorts</td>\n",
       "      <td>SRTEH2FF9KEDEFGF</td>\n",
       "      <td>999</td>\n",
       "      <td>379</td>\n",
       "      <td>2.0</td>\n",
       "      <td>Alisha</td>\n",
       "      <td>{\"product_specification\"=&gt;[{\"key\"=&gt;\"Number of ...</td>\n",
       "      <td>Key Features of Alisha Solid Women's Cycling S...</td>\n",
       "      <td>56.85</td>\n",
       "    </tr>\n",
       "    <tr>\n",
       "      <th>1</th>\n",
       "      <td>7f7036a6d550aaa89d34c77bd39a5e48</td>\n",
       "      <td>East</td>\n",
       "      <td>31-12-2021</td>\n",
       "      <td>03-01-2022</td>\n",
       "      <td>02-01-2022</td>\n",
       "      <td>FabHomeDecor Fabric Double Sofa Bed</td>\n",
       "      <td>Furniture</td>\n",
       "      <td>Living Room Furniture</td>\n",
       "      <td>Sofa Beds &amp; Futons</td>\n",
       "      <td>FabHomeDecor Fabric Double Sofa Bed (Finish C...</td>\n",
       "      <td>SBEEH3QGU7MFYJFY</td>\n",
       "      <td>32157</td>\n",
       "      <td>22646</td>\n",
       "      <td>2.0</td>\n",
       "      <td>FabHomeDecor</td>\n",
       "      <td>{\"product_specification\"=&gt;[{\"key\"=&gt;\"Installati...</td>\n",
       "      <td>FabHomeDecor Fabric Double Sofa Bed (Finish Co...</td>\n",
       "      <td>5661.50</td>\n",
       "    </tr>\n",
       "    <tr>\n",
       "      <th>2</th>\n",
       "      <td>f449ec65dcbc041b6ae5e6a32717d01b</td>\n",
       "      <td>East</td>\n",
       "      <td>31-12-2021</td>\n",
       "      <td>03-01-2022</td>\n",
       "      <td>02-01-2022</td>\n",
       "      <td>AW Bellies</td>\n",
       "      <td>Footwear</td>\n",
       "      <td>Women's Footwear</td>\n",
       "      <td>Ballerinas</td>\n",
       "      <td>AW Bellies</td>\n",
       "      <td>SHOEH4GRSUBJGZXE</td>\n",
       "      <td>999</td>\n",
       "      <td>499</td>\n",
       "      <td>1.0</td>\n",
       "      <td>AW</td>\n",
       "      <td>{\"product_specification\"=&gt;[{\"key\"=&gt;\"Ideal For\"...</td>\n",
       "      <td>Key Features of AW Bellies Sandals Wedges Heel...</td>\n",
       "      <td>74.85</td>\n",
       "    </tr>\n",
       "    <tr>\n",
       "      <th>3</th>\n",
       "      <td>0973b37acd0c664e3de26e97e5571454</td>\n",
       "      <td>West</td>\n",
       "      <td>31-12-2021</td>\n",
       "      <td>03-01-2022</td>\n",
       "      <td>02-01-2022</td>\n",
       "      <td>Alisha Solid Women's Cycling Shorts</td>\n",
       "      <td>Clothing</td>\n",
       "      <td>Women's Clothing</td>\n",
       "      <td>Lingerie, Sleep &amp; Swimwear</td>\n",
       "      <td>Shorts</td>\n",
       "      <td>SRTEH2F6HUZMQ6SJ</td>\n",
       "      <td>699</td>\n",
       "      <td>267</td>\n",
       "      <td>5.0</td>\n",
       "      <td>Alisha</td>\n",
       "      <td>{\"product_specification\"=&gt;[{\"key\"=&gt;\"Number of ...</td>\n",
       "      <td>Key Features of Alisha Solid Women's Cycling S...</td>\n",
       "      <td>26.70</td>\n",
       "    </tr>\n",
       "    <tr>\n",
       "      <th>4</th>\n",
       "      <td>bc940ea42ee6bef5ac7cea3fb5cfbee7</td>\n",
       "      <td>West</td>\n",
       "      <td>31-12-2021</td>\n",
       "      <td>03-01-2022</td>\n",
       "      <td>02-01-2022</td>\n",
       "      <td>Sicons All Purpose Arnica Dog Shampoo</td>\n",
       "      <td>Pet Supplies</td>\n",
       "      <td>Grooming</td>\n",
       "      <td>Skin &amp; Coat Care</td>\n",
       "      <td>Shampoo</td>\n",
       "      <td>PSOEH3ZYDMSYARJ5</td>\n",
       "      <td>220</td>\n",
       "      <td>210</td>\n",
       "      <td>5.0</td>\n",
       "      <td>Sicons</td>\n",
       "      <td>{\"product_specification\"=&gt;[{\"key\"=&gt;\"Pet Type\",...</td>\n",
       "      <td>Specifications of Sicons All Purpose Arnica Do...</td>\n",
       "      <td>21.00</td>\n",
       "    </tr>\n",
       "  </tbody>\n",
       "</table>\n",
       "</div>"
      ],
      "text/plain": [
       "                   Customer_uniq_id Region  Order_Date Expected_Delivery_Date  \\\n",
       "0  c2d766ca982eca8304150849735ffef9  North  31-12-2021             03-01-2022   \n",
       "1  7f7036a6d550aaa89d34c77bd39a5e48  East   31-12-2021             03-01-2022   \n",
       "2  f449ec65dcbc041b6ae5e6a32717d01b  East   31-12-2021             03-01-2022   \n",
       "3  0973b37acd0c664e3de26e97e5571454   West  31-12-2021             03-01-2022   \n",
       "4  bc940ea42ee6bef5ac7cea3fb5cfbee7   West  31-12-2021             03-01-2022   \n",
       "\n",
       "  Delivered_Date                           product_name product_main_category  \\\n",
       "0     02-01-2022    Alisha Solid Women's Cycling Shorts             Clothing    \n",
       "1     02-01-2022    FabHomeDecor Fabric Double Sofa Bed            Furniture    \n",
       "2     02-01-2022                             AW Bellies             Footwear    \n",
       "3     02-01-2022    Alisha Solid Women's Cycling Shorts             Clothing    \n",
       "4     02-01-2022  Sicons All Purpose Arnica Dog Shampoo         Pet Supplies    \n",
       "\n",
       "       product_subcategory       product_category_filter  \\\n",
       "0        Women's Clothing    Lingerie, Sleep & Swimwear    \n",
       "1   Living Room Furniture            Sofa Beds & Futons    \n",
       "2        Women's Footwear                    Ballerinas    \n",
       "3        Women's Clothing    Lingerie, Sleep & Swimwear    \n",
       "4                Grooming              Skin & Coat Care    \n",
       "\n",
       "                          product_category_subfilter product_unique ID  \\\n",
       "0                                            Shorts   SRTEH2FF9KEDEFGF   \n",
       "1   FabHomeDecor Fabric Double Sofa Bed (Finish C...  SBEEH3QGU7MFYJFY   \n",
       "2                                         AW Bellies  SHOEH4GRSUBJGZXE   \n",
       "3                                            Shorts   SRTEH2F6HUZMQ6SJ   \n",
       "4                                           Shampoo   PSOEH3ZYDMSYARJ5   \n",
       "\n",
       "   retail_price  discounted_price  product_rating         Brand  \\\n",
       "0           999               379             2.0        Alisha   \n",
       "1         32157             22646             2.0  FabHomeDecor   \n",
       "2           999               499             1.0            AW   \n",
       "3           699               267             5.0        Alisha   \n",
       "4           220               210             5.0        Sicons   \n",
       "\n",
       "                              product_specifications  \\\n",
       "0  {\"product_specification\"=>[{\"key\"=>\"Number of ...   \n",
       "1  {\"product_specification\"=>[{\"key\"=>\"Installati...   \n",
       "2  {\"product_specification\"=>[{\"key\"=>\"Ideal For\"...   \n",
       "3  {\"product_specification\"=>[{\"key\"=>\"Number of ...   \n",
       "4  {\"product_specification\"=>[{\"key\"=>\"Pet Type\",...   \n",
       "\n",
       "                                         description  ecom_revenue  \n",
       "0  Key Features of Alisha Solid Women's Cycling S...         56.85  \n",
       "1  FabHomeDecor Fabric Double Sofa Bed (Finish Co...       5661.50  \n",
       "2  Key Features of AW Bellies Sandals Wedges Heel...         74.85  \n",
       "3  Key Features of Alisha Solid Women's Cycling S...         26.70  \n",
       "4  Specifications of Sicons All Purpose Arnica Do...         21.00  "
      ]
     },
     "execution_count": 56,
     "metadata": {},
     "output_type": "execute_result"
    }
   ],
   "source": [
    "df.head()"
   ]
  },
  {
   "cell_type": "code",
   "execution_count": 57,
   "id": "7c37f467",
   "metadata": {
    "ExecuteTime": {
     "end_time": "2023-11-08T07:57:25.021206Z",
     "start_time": "2023-11-08T07:57:25.015137Z"
    }
   },
   "outputs": [
    {
     "data": {
      "text/plain": [
       "2242221.75"
      ]
     },
     "execution_count": 57,
     "metadata": {},
     "output_type": "execute_result"
    }
   ],
   "source": [
    "df['ecom_revenue'].sum()"
   ]
  },
  {
   "cell_type": "markdown",
   "id": "9161ca8c",
   "metadata": {},
   "source": [
    "<font color='blue'>\n",
    "    <font size = 5>\n",
    "    Now you need to find the revenue for each retailer (Brand)\n",
    "    </font>"
   ]
  },
  {
   "cell_type": "markdown",
   "id": "73dd23c3",
   "metadata": {},
   "source": [
    "## Q6.Calculate the BrandRevenue for each brand and list the top 14 brands having maximum revenue in descending order (5 marks)\n",
    "#### Hint: Brand revenue is different from the E-Commerce company revenue.\n"
   ]
  },
  {
   "cell_type": "markdown",
   "id": "3514fa79",
   "metadata": {},
   "source": [
    "### Ans 6"
   ]
  },
  {
   "cell_type": "code",
   "execution_count": 59,
   "id": "437c69b5",
   "metadata": {
    "ExecuteTime": {
     "end_time": "2023-11-08T08:04:46.099141Z",
     "start_time": "2023-11-08T08:04:46.093653Z"
    }
   },
   "outputs": [],
   "source": [
    "df['BrandRevenue']=df['discounted_price']-df['ecom_revenue']"
   ]
  },
  {
   "cell_type": "code",
   "execution_count": 60,
   "id": "d9fec1ba",
   "metadata": {
    "ExecuteTime": {
     "end_time": "2023-11-08T08:04:54.852615Z",
     "start_time": "2023-11-08T08:04:54.832556Z"
    }
   },
   "outputs": [
    {
     "data": {
      "text/plain": [
       "Brand\n",
       "Allure Auto     498464.25\n",
       "GAGA            237390.00\n",
       "Slim            212062.60\n",
       "DailyObjects    181980.00\n",
       "Diviniti        143115.00\n",
       "Regular         126112.35\n",
       "Enthopia        123146.25\n",
       "TheLostPuppy    116595.35\n",
       "Asus             99241.50\n",
       "Springwel        88978.50\n",
       "Audeze           87219.00\n",
       "Lal Haveli       74239.95\n",
       "Speedwav         68560.20\n",
       "FabHomeDecor     67938.00\n",
       "Name: BrandRevenue, dtype: float64"
      ]
     },
     "execution_count": 60,
     "metadata": {},
     "output_type": "execute_result"
    }
   ],
   "source": [
    "df.groupby('Brand')['BrandRevenue'].sum().sort_values(ascending=False).head(14)"
   ]
  },
  {
   "cell_type": "markdown",
   "id": "2a2bbd83",
   "metadata": {},
   "source": [
    "<font color='blue'>\n",
    "    <font size = 5>\n",
    "Let us now investigate multiple features for each product to determine any pattern.\n",
    "</font>"
   ]
  },
  {
   "cell_type": "markdown",
   "id": "1aa1834b",
   "metadata": {},
   "source": [
    "## Q 7. Compare prices for each product.\n",
    "\n",
    "## a)\tDraw boxplots of retail_price & discount_price. (2 marks)\n",
    "\n",
    "## b)\t Are there any outliers? (Yes/No) (1mark)\n",
    "\n",
    "## c)\tCreate a scatterplot of retail_price (x-axis) and discounted_price (y-axis) (2 marks)\n"
   ]
  },
  {
   "cell_type": "markdown",
   "id": "d5aae861",
   "metadata": {},
   "source": [
    "### Ans 7 a)"
   ]
  },
  {
   "cell_type": "code",
   "execution_count": 9,
   "id": "510fd4d0",
   "metadata": {
    "ExecuteTime": {
     "end_time": "2023-12-13T04:42:54.097419Z",
     "start_time": "2023-12-13T04:42:53.732765Z"
    }
   },
   "outputs": [
    {
     "data": {
      "text/plain": [
       "<Axes: xlabel='discounted_price'>"
      ]
     },
     "execution_count": 9,
     "metadata": {},
     "output_type": "execute_result"
    },
    {
     "data": {
      "image/png": "[encoded data removed]",
      "text/plain": [
       "<Figure size 1500x600 with 2 Axes>"
      ]
     },
     "metadata": {},
     "output_type": "display_data"
    }
   ],
   "source": [
    "plt.figure(figsize=(15,6))\n",
    "plt.subplot(1,2,1)\n",
    "sns.boxplot(data=df,x='retail_price',showfliers=False)   # showfliers to hide outliers\n",
    "\n",
    "plt.subplot(1,2,2)\n",
    "sns.boxplot(data=df,x='discounted_price',showfliers=False)"
   ]
  },
  {
   "cell_type": "markdown",
   "id": "78b92e7c",
   "metadata": {},
   "source": [
    "### Ans 7 b)"
   ]
  },
  {
   "cell_type": "code",
   "execution_count": null,
   "id": "0af7c034",
   "metadata": {},
   "outputs": [],
   "source": [
    "# yes there are outliers"
   ]
  },
  {
   "cell_type": "markdown",
   "id": "0389c9b8",
   "metadata": {},
   "source": [
    "### Ans 7 c)"
   ]
  },
  {
   "cell_type": "code",
   "execution_count": 63,
   "id": "d8c44be9",
   "metadata": {
    "ExecuteTime": {
     "end_time": "2023-11-08T08:10:09.440161Z",
     "start_time": "2023-11-08T08:10:09.035299Z"
    }
   },
   "outputs": [
    {
     "data": {
      "text/plain": [
       "<Axes: xlabel='retail_price', ylabel='discounted_price'>"
      ]
     },
     "execution_count": 63,
     "metadata": {},
     "output_type": "execute_result"
    },
    {
     "data": {
      "image/png": "[encoded data removed]",
      "text/plain": [
       "<Figure size 1500x600 with 1 Axes>"
      ]
     },
     "metadata": {},
     "output_type": "display_data"
    }
   ],
   "source": [
    "plt.figure(figsize=(15,6))\n",
    "sns.scatterplot(data=df,x='retail_price',y='discounted_price')  # whenever the retail price is <20000 we have good relationship"
   ]
  },
  {
   "cell_type": "markdown",
   "id": "3bc47f55",
   "metadata": {},
   "source": [
    "<font color='blue'>\n",
    "    <font size = 5>\n",
    "    The next steps will enable to study brand-level information.\n",
    "    </font>"
   ]
  },
  {
   "cell_type": "markdown",
   "id": "b9bd00f7",
   "metadata": {},
   "source": [
    "## Q 8. Create a new dataframe to include the brand specific information as stated:\n",
    "## i.\ttotal number of orders placed per brand\n",
    "## ii.\ttotal retail_price per brand\n",
    "## iii.\ttotal discount_price per brand, and \n",
    "## iv.\ttotal BrandRevenue generated per brand. \n",
    "\n",
    "## Also, draw a pairplot using these four features. (3 marks)\n"
   ]
  },
  {
   "cell_type": "markdown",
   "id": "8f83cea9",
   "metadata": {},
   "source": [
    "### Ans 8"
   ]
  },
  {
   "cell_type": "code",
   "execution_count": 65,
   "id": "ae749847",
   "metadata": {
    "ExecuteTime": {
     "end_time": "2023-11-08T08:12:45.703899Z",
     "start_time": "2023-11-08T08:12:45.692141Z"
    }
   },
   "outputs": [
    {
     "data": {
      "text/plain": [
       "Brand\n",
       "Allure Auto       469\n",
       "Regular           299\n",
       "Slim              267\n",
       "TheLostPuppy      229\n",
       "Black             147\n",
       "                 ... \n",
       "SINGHAM             1\n",
       "Jack & Jones        1\n",
       "Quenell             1\n",
       "Shop Swipe          1\n",
       "Ambika Lahenga      1\n",
       "Name: count, Length: 2580, dtype: int64"
      ]
     },
     "execution_count": 65,
     "metadata": {},
     "output_type": "execute_result"
    }
   ],
   "source": [
    "no_of_orders =df['Brand'].value_counts()\n",
    "no_of_orders"
   ]
  },
  {
   "cell_type": "code",
   "execution_count": 75,
   "id": "5ca39c57",
   "metadata": {
    "ExecuteTime": {
     "end_time": "2023-11-08T08:19:10.950925Z",
     "start_time": "2023-11-08T08:19:10.938627Z"
    }
   },
   "outputs": [
    {
     "data": {
      "text/plain": [
       "Brand\n",
       "1OAK              1698\n",
       "3A AUTOCARE     107059\n",
       "3D Mat            7250\n",
       "3kFactory          399\n",
       "4D               17500\n",
       "                 ...  \n",
       "youniqueshop       810\n",
       "zDelhi.com        4499\n",
       "zaidis             150\n",
       "zasmina           1400\n",
       " Tarkan           1999\n",
       "Name: retail_price, Length: 2580, dtype: int64"
      ]
     },
     "execution_count": 75,
     "metadata": {},
     "output_type": "execute_result"
    }
   ],
   "source": [
    "total_retail_price =df.groupby('Brand')['retail_price'].sum()\n",
    "total_retail_price"
   ]
  },
  {
   "cell_type": "code",
   "execution_count": 68,
   "id": "8eb2b607",
   "metadata": {
    "ExecuteTime": {
     "end_time": "2023-11-08T08:14:00.177073Z",
     "start_time": "2023-11-08T08:14:00.162513Z"
    }
   },
   "outputs": [
    {
     "data": {
      "text/plain": [
       "Brand\n",
       "1OAK             1274\n",
       "3A AUTOCARE     74134\n",
       "3D Mat           6999\n",
       "3kFactory         174\n",
       "4D               7948\n",
       "                ...  \n",
       "youniqueshop      640\n",
       "zDelhi.com       3999\n",
       "zaidis            129\n",
       "zasmina           639\n",
       " Tarkan           349\n",
       "Name: discounted_price, Length: 2580, dtype: int64"
      ]
     },
     "execution_count": 68,
     "metadata": {},
     "output_type": "execute_result"
    }
   ],
   "source": [
    "total_discounted_price =df.groupby('Brand')['discounted_price'].sum()\n",
    "total_discounted_price"
   ]
  },
  {
   "cell_type": "code",
   "execution_count": 71,
   "id": "5bf5aefe",
   "metadata": {
    "ExecuteTime": {
     "end_time": "2023-11-08T08:14:58.032743Z",
     "start_time": "2023-11-08T08:14:58.019849Z"
    }
   },
   "outputs": [
    {
     "data": {
      "text/plain": [
       "Brand\n",
       "1OAK             1015.40\n",
       "3A AUTOCARE     55647.90\n",
       "3D Mat           5249.25\n",
       "3kFactory         156.60\n",
       "4D               5961.00\n",
       "                  ...   \n",
       "youniqueshop      480.00\n",
       "zDelhi.com       2999.25\n",
       "zaidis            116.10\n",
       "zasmina           575.10\n",
       " Tarkan           314.10\n",
       "Name: BrandRevenue, Length: 2580, dtype: float64"
      ]
     },
     "execution_count": 71,
     "metadata": {},
     "output_type": "execute_result"
    }
   ],
   "source": [
    "total_brand_price =df.groupby('Brand')['BrandRevenue'].sum()\n",
    "total_brand_price"
   ]
  },
  {
   "cell_type": "code",
   "execution_count": 72,
   "id": "5b08f3f8",
   "metadata": {
    "ExecuteTime": {
     "end_time": "2023-11-08T08:16:11.753196Z",
     "start_time": "2023-11-08T08:16:11.740663Z"
    }
   },
   "outputs": [
    {
     "data": {
      "text/html": [
       "<div>\n",
       "<style scoped>\n",
       "    .dataframe tbody tr th:only-of-type {\n",
       "        vertical-align: middle;\n",
       "    }\n",
       "\n",
       "    .dataframe tbody tr th {\n",
       "        vertical-align: top;\n",
       "    }\n",
       "\n",
       "    .dataframe thead th {\n",
       "        text-align: right;\n",
       "    }\n",
       "</style>\n",
       "<table border=\"1\" class=\"dataframe\">\n",
       "  <thead>\n",
       "    <tr style=\"text-align: right;\">\n",
       "      <th></th>\n",
       "      <th>Num of Orders</th>\n",
       "      <th>Total Retail Price</th>\n",
       "      <th>Total Discounted Price</th>\n",
       "      <th>Total BrandRevenue</th>\n",
       "    </tr>\n",
       "  </thead>\n",
       "  <tbody>\n",
       "  </tbody>\n",
       "</table>\n",
       "</div>"
      ],
      "text/plain": [
       "Empty DataFrame\n",
       "Columns: [Num of Orders, Total Retail Price, Total Discounted Price, Total BrandRevenue]\n",
       "Index: []"
      ]
     },
     "execution_count": 72,
     "metadata": {},
     "output_type": "execute_result"
    }
   ],
   "source": [
    "data=pd.DataFrame(columns=['Num of Orders','Total Retail Price','Total Discounted Price','Total BrandRevenue'])\n",
    "data"
   ]
  },
  {
   "cell_type": "code",
   "execution_count": 77,
   "id": "99470399",
   "metadata": {
    "ExecuteTime": {
     "end_time": "2023-11-08T08:19:28.200919Z",
     "start_time": "2023-11-08T08:19:28.193285Z"
    }
   },
   "outputs": [],
   "source": [
    "data['Num of Orders']=no_of_orders\n",
    "data['Total Retail Price']=total_retail_price\n",
    "data['Total Discounted Price']=total_discounted_price\n",
    "data['Total BrandRevenue']=total_brand_price"
   ]
  },
  {
   "cell_type": "code",
   "execution_count": 79,
   "id": "1fe75f1f",
   "metadata": {
    "ExecuteTime": {
     "end_time": "2023-11-08T08:19:41.579328Z",
     "start_time": "2023-11-08T08:19:41.565342Z"
    }
   },
   "outputs": [
    {
     "data": {
      "text/html": [
       "<div>\n",
       "<style scoped>\n",
       "    .dataframe tbody tr th:only-of-type {\n",
       "        vertical-align: middle;\n",
       "    }\n",
       "\n",
       "    .dataframe tbody tr th {\n",
       "        vertical-align: top;\n",
       "    }\n",
       "\n",
       "    .dataframe thead th {\n",
       "        text-align: right;\n",
       "    }\n",
       "</style>\n",
       "<table border=\"1\" class=\"dataframe\">\n",
       "  <thead>\n",
       "    <tr style=\"text-align: right;\">\n",
       "      <th></th>\n",
       "      <th>Num of Orders</th>\n",
       "      <th>Total Retail Price</th>\n",
       "      <th>Total Discounted Price</th>\n",
       "      <th>Total BrandRevenue</th>\n",
       "    </tr>\n",
       "    <tr>\n",
       "      <th>Brand</th>\n",
       "      <th></th>\n",
       "      <th></th>\n",
       "      <th></th>\n",
       "      <th></th>\n",
       "    </tr>\n",
       "  </thead>\n",
       "  <tbody>\n",
       "    <tr>\n",
       "      <th>Allure Auto</th>\n",
       "      <td>469</td>\n",
       "      <td>1973880</td>\n",
       "      <td>664619</td>\n",
       "      <td>498464.25</td>\n",
       "    </tr>\n",
       "    <tr>\n",
       "      <th>Regular</th>\n",
       "      <td>299</td>\n",
       "      <td>303546</td>\n",
       "      <td>152480</td>\n",
       "      <td>126112.35</td>\n",
       "    </tr>\n",
       "    <tr>\n",
       "      <th>Slim</th>\n",
       "      <td>267</td>\n",
       "      <td>533724</td>\n",
       "      <td>272177</td>\n",
       "      <td>212062.60</td>\n",
       "    </tr>\n",
       "    <tr>\n",
       "      <th>TheLostPuppy</th>\n",
       "      <td>229</td>\n",
       "      <td>485571</td>\n",
       "      <td>137171</td>\n",
       "      <td>116595.35</td>\n",
       "    </tr>\n",
       "    <tr>\n",
       "      <th>Black</th>\n",
       "      <td>147</td>\n",
       "      <td>130558</td>\n",
       "      <td>46556</td>\n",
       "      <td>40463.15</td>\n",
       "    </tr>\n",
       "    <tr>\n",
       "      <th>...</th>\n",
       "      <td>...</td>\n",
       "      <td>...</td>\n",
       "      <td>...</td>\n",
       "      <td>...</td>\n",
       "    </tr>\n",
       "    <tr>\n",
       "      <th>SINGHAM</th>\n",
       "      <td>1</td>\n",
       "      <td>999</td>\n",
       "      <td>349</td>\n",
       "      <td>314.10</td>\n",
       "    </tr>\n",
       "    <tr>\n",
       "      <th>Jack &amp; Jones</th>\n",
       "      <td>1</td>\n",
       "      <td>995</td>\n",
       "      <td>497</td>\n",
       "      <td>422.45</td>\n",
       "    </tr>\n",
       "    <tr>\n",
       "      <th>Quenell</th>\n",
       "      <td>1</td>\n",
       "      <td>1799</td>\n",
       "      <td>749</td>\n",
       "      <td>561.75</td>\n",
       "    </tr>\n",
       "    <tr>\n",
       "      <th>Shop Swipe</th>\n",
       "      <td>1</td>\n",
       "      <td>1200</td>\n",
       "      <td>559</td>\n",
       "      <td>475.15</td>\n",
       "    </tr>\n",
       "    <tr>\n",
       "      <th>Ambika Lahenga</th>\n",
       "      <td>1</td>\n",
       "      <td>39992</td>\n",
       "      <td>24995</td>\n",
       "      <td>18746.25</td>\n",
       "    </tr>\n",
       "  </tbody>\n",
       "</table>\n",
       "<p>2580 rows × 4 columns</p>\n",
       "</div>"
      ],
      "text/plain": [
       "                Num of Orders  Total Retail Price  Total Discounted Price  \\\n",
       "Brand                                                                       \n",
       "Allure Auto               469             1973880                  664619   \n",
       "Regular                   299              303546                  152480   \n",
       "Slim                      267              533724                  272177   \n",
       "TheLostPuppy              229              485571                  137171   \n",
       "Black                     147              130558                   46556   \n",
       "...                       ...                 ...                     ...   \n",
       "SINGHAM                     1                 999                     349   \n",
       "Jack & Jones                1                 995                     497   \n",
       "Quenell                     1                1799                     749   \n",
       "Shop Swipe                  1                1200                     559   \n",
       "Ambika Lahenga              1               39992                   24995   \n",
       "\n",
       "                Total BrandRevenue  \n",
       "Brand                               \n",
       "Allure Auto              498464.25  \n",
       "Regular                  126112.35  \n",
       "Slim                     212062.60  \n",
       "TheLostPuppy             116595.35  \n",
       "Black                     40463.15  \n",
       "...                            ...  \n",
       "SINGHAM                     314.10  \n",
       "Jack & Jones                422.45  \n",
       "Quenell                     561.75  \n",
       "Shop Swipe                  475.15  \n",
       "Ambika Lahenga            18746.25  \n",
       "\n",
       "[2580 rows x 4 columns]"
      ]
     },
     "execution_count": 79,
     "metadata": {},
     "output_type": "execute_result"
    }
   ],
   "source": [
    "data"
   ]
  },
  {
   "cell_type": "markdown",
   "id": "ecec83f4",
   "metadata": {},
   "source": [
    "<font color='blue'>\n",
    "    <font size = 5>\n",
    "    The E-Commerce company operate in multiple regions. It is important to understand its performance in each region.\n",
    "    </font>"
   ]
  },
  {
   "cell_type": "markdown",
   "id": "dd09b8aa",
   "metadata": {},
   "source": [
    "## Q 9.Compare performance regionwise\n",
    "\n",
    "## a)\tDraw a lineplot for the monthly Revenue of ECom Company for each region separately.  (4 marks) \n",
    "\n",
    "## b)\tIdentify the best and the worst performing months for each region. (2 marks)\n"
   ]
  },
  {
   "cell_type": "markdown",
   "id": "e6d64aea",
   "metadata": {},
   "source": [
    "### Ans 9 a)"
   ]
  },
  {
   "cell_type": "code",
   "execution_count": 89,
   "id": "d9a4f534",
   "metadata": {
    "ExecuteTime": {
     "end_time": "2023-11-08T08:30:26.342313Z",
     "start_time": "2023-11-08T08:30:26.230907Z"
    }
   },
   "outputs": [],
   "source": [
    "df['month_year']=pd.to_datetime(df['Order_Date'],format='%d-%m-%Y').dt.strftime('%Y-%m') \n",
    "# small y gives only last 2 i.e 23  y is year"
   ]
  },
  {
   "cell_type": "code",
   "execution_count": 93,
   "id": "cf1ea2b6",
   "metadata": {
    "ExecuteTime": {
     "end_time": "2023-11-08T08:34:32.024592Z",
     "start_time": "2023-11-08T08:34:30.014444Z"
    }
   },
   "outputs": [
    {
     "data": {
      "text/plain": [
       "<Axes: xlabel='month_year', ylabel='BrandRevenue'>"
      ]
     },
     "execution_count": 93,
     "metadata": {},
     "output_type": "execute_result"
    },
    {
     "data": {
      "image/png": "[encoded data removed]",
      "text/plain": [
       "<Figure size 1500x600 with 1 Axes>"
      ]
     },
     "metadata": {},
     "output_type": "display_data"
    }
   ],
   "source": [
    "plt.figure(figsize=(15,6))\n",
    "sns.pointplot(data=df.sort_values('month_year'),x='month_year',y='BrandRevenue',estimator=sum,errorbar=('ci',False))"
   ]
  },
  {
   "cell_type": "code",
   "execution_count": 104,
   "id": "196ed0df",
   "metadata": {
    "ExecuteTime": {
     "end_time": "2023-11-08T08:41:44.444772Z",
     "start_time": "2023-11-08T08:41:41.622250Z"
    }
   },
   "outputs": [
    {
     "data": {
      "text/plain": [
       "<Figure size 1500x600 with 0 Axes>"
      ]
     },
     "metadata": {},
     "output_type": "display_data"
    },
    {
     "data": {
      "image/png": "[encoded data removed]",
      "text/plain": [
       "<Figure size 1200x300 with 4 Axes>"
      ]
     },
     "metadata": {},
     "output_type": "display_data"
    }
   ],
   "source": [
    "plt.figure(figsize=(15,6))\n",
    "\n",
    "ax=sns.FacetGrid(data=df.sort_values('month_year'),col='Region')\n",
    "ax.map(sns.pointplot,'month_year','BrandRevenue',errorbar=('ci',False))\n",
    "plt.xticks(rotation=90)\n",
    "plt.show()"
   ]
  },
  {
   "cell_type": "code",
   "execution_count": 91,
   "id": "8a2413ba",
   "metadata": {
    "ExecuteTime": {
     "end_time": "2023-11-08T08:33:07.819102Z",
     "start_time": "2023-11-08T08:33:07.806440Z"
    }
   },
   "outputs": [
    {
     "data": {
      "text/plain": [
       "month_year\n",
       "2020-12    12\n",
       "2021-01     6\n",
       "2021-02     3\n",
       "2021-03    24\n",
       "2021-04    24\n",
       "2021-05    28\n",
       "2021-06    26\n",
       "2021-07     1\n",
       "2021-08     1\n",
       "2021-09     1\n",
       "2021-10     1\n",
       "2021-12     2\n",
       "Name: Order_Date, dtype: int64"
      ]
     },
     "execution_count": 91,
     "metadata": {},
     "output_type": "execute_result"
    }
   ],
   "source": [
    "df.groupby('month_year')['Order_Date'].nunique()"
   ]
  },
  {
   "cell_type": "markdown",
   "id": "dac59dc4",
   "metadata": {},
   "source": [
    "### Ans 9 b)"
   ]
  },
  {
   "cell_type": "code",
   "execution_count": null,
   "id": "9f569635",
   "metadata": {},
   "outputs": [],
   "source": []
  },
  {
   "cell_type": "markdown",
   "id": "dcb8d39f",
   "metadata": {},
   "source": [
    "<font color='blue'>\n",
    "    <font size = 5>\n",
    "    Congratulations! You have learnt how to approach a complex data and extract information out of it. \n",
    "    </font>"
   ]
  }
 ],
 "metadata": {
  "kernelspec": {
   "display_name": "Python 3 (ipykernel)",
   "language": "python",
   "name": "python3"
  },
  "language_info": {
   "codemirror_mode": {
    "name": "ipython",
    "version": 3
   },
   "file_extension": ".py",
   "mimetype": "text/x-python",
   "name": "python",
   "nbconvert_exporter": "python",
   "pygments_lexer": "ipython3",
   "version": "3.11.5"
  },
  "varInspector": {
   "cols": {
    "lenName": 16,
    "lenType": 16,
    "lenVar": 40
   },
   "kernels_config": {
    "python": {
     "delete_cmd_postfix": "",
     "delete_cmd_prefix": "del ",
     "library": "var_list.py",
     "varRefreshCmd": "print(var_dic_list())"
    },
    "r": {
     "delete_cmd_postfix": ") ",
     "delete_cmd_prefix": "rm(",
     "library": "var_list.r",
     "varRefreshCmd": "cat(var_dic_list()) "
    }
   },
   "types_to_exclude": [
    "module",
    "function",
    "builtin_function_or_method",
    "instance",
    "_Feature"
   ],
   "window_display": false
  }
 },
 "nbformat": 4,
 "nbformat_minor": 5
}
